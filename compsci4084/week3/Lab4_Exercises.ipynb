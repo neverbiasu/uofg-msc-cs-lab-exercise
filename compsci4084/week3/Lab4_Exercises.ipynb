{
 "cells": [
  {
   "cell_type": "markdown",
   "id": "ad39eea5",
   "metadata": {},
   "source": [
    "# Lab 4 - NumPy and Pandas Exercises\n",
    "\n",
    "**Topic:** NumPy and Pandas fundamentals and intermediate operations\n",
    "\n",
    "**Total Exercises:** 13\n",
    "\n",
    "**Estimated Time:** 60-90 minutes"
   ]
  },
  {
   "cell_type": "markdown",
   "id": "ce3be068",
   "metadata": {},
   "source": [
    "# Table of Contents\n",
    "\n",
    "1. [Test for Non-Zero Elements](#test-for-non-zero-elements-level-1)\n",
    "2. [Element-wise Comparisons Between Two Arrays](#element-wise-comparisons-between-two-arraarray2s-level-1)\n",
    "3. [Create Array of Zeros, Ones, and Fives](#create-array-of-zeros-ones-and-fives-level-1)\n",
    "4. [Add Vector to Matrix Rows](#add-vector-to-matrix-rows-level-2)\n",
    "5. [5x5 Array with Border Pattern](#5x5-array-with-border-pattern-level-2)\n",
    "6. [Find Common Values Between Arrays](#find-common-values-between-arrays-level-1)\n",
    "7. [Stack and Split Arrays](#stack-and-split-arrays-level-2)\n",
    "8. [Get First Three Rows of DataFrame](#get-first-three-rows-of-dataframe-level-1)\n",
    "9. [Select Rows by Attempts](#select-rows-by-attempts-level-1)\n",
    "10. [Count Rows and Columns](#count-rows-and-columns-level-1)\n",
    "11. [Select Rows by Score Range](#select-rows-by-score-range-level-1)\n",
    "12. [Change Score in Row 'c'](#change-score-in-row-c-level-1)\n",
    "13. [Calculate Mean Score per Student](#calculate-mean-score-per-student-level-2)"
   ]
  },
  {
   "cell_type": "markdown",
   "id": "07e50beb",
   "metadata": {},
   "source": [
    "## Learning Objectives\n",
    "\n",
    "| Objective | Skills Developed |\n",
    "|---|---|\n",
    "| Work with NumPy arrays | Array creation, element-wise comparison, broadcasting |\n",
    "| Manipulate and combine arrays | Stacking, splitting, axis operations |\n",
    "| Use Pandas for DataFrame tasks | Selection, filtering, modification, aggregation |"
   ]
  },
  {
   "cell_type": "markdown",
   "id": "8652e2e1",
   "metadata": {},
   "source": [
    "## NumPy Basic Exercises"
   ]
  },
  {
   "cell_type": "markdown",
   "id": "e3758332",
   "metadata": {},
   "source": [
    "### Test for Non-Zero Elements (Level 1)\n",
    "Write a NumPy program to test whether none of the elements of a given array is zero."
   ]
  },
  {
   "cell_type": "code",
   "execution_count": 1,
   "id": "0c759b81",
   "metadata": {},
   "outputs": [
    {
     "data": {
      "text/plain": [
       "(np.True_, np.False_)"
      ]
     },
     "execution_count": 1,
     "metadata": {},
     "output_type": "execute_result"
    }
   ],
   "source": [
    "# Test for Non-Zero Elements (Level 1)\n",
    "import numpy as np\n",
    "\n",
    "non_zero_array = np.arange(1, 3)\n",
    "zero_array = np.zeros(2)\n",
    "np.all(non_zero_array), np.all(zero_array)"
   ]
  },
  {
   "cell_type": "markdown",
   "id": "8bbf603e",
   "metadata": {},
   "source": [
    "### Element-wise Comparisons Between Two Arrays (Level 1)\n",
    "Given array1 = [45, 67, 23] and array2 = [56, 23, 89], create element-wise comparisons: greater, greater_equal, less, less_equal."
   ]
  },
  {
   "cell_type": "code",
   "execution_count": 3,
   "id": "479e68f1",
   "metadata": {},
   "outputs": [
    {
     "name": "stdout",
     "output_type": "stream",
     "text": [
      "1. Comparison of greater is:  [False  True False]\n",
      "2. Comparison of greater_equal is:  [False  True False]\n",
      "3. Comparison of less is:  [ True False  True]\n",
      "4. Comparison of less_equal is: [ True False  True]\n"
     ]
    }
   ],
   "source": [
    "# Element-wise Comparisons Between Two Arrays (Level 1)\n",
    "array1 = np.array([45, 67, 23])\n",
    "array2 = np.array([56, 23, 89])\n",
    "\n",
    "print(\"1. Comparison of greater is: \", np.greater(array1, array2))\n",
    "print(\"2. Comparison of greater_equal is: \", np.greater_equal(array1, array2))\n",
    "print(\"3. Comparison of less is: \", np.less(array1, array2))\n",
    "print(\"4. Comparison of less_equal is:\", np.less_equal(array1, array2))"
   ]
  },
  {
   "cell_type": "markdown",
   "id": "9763e174",
   "metadata": {},
   "source": [
    "### Create Array of Zeros, Ones, and Fives (Level 1)\n",
    "Create an array containing 8 zeros, 5 ones, and 10 fives (concatenated as a single 1D array)."
   ]
  },
  {
   "cell_type": "code",
   "execution_count": 7,
   "id": "28b992f5",
   "metadata": {},
   "outputs": [
    {
     "data": {
      "text/plain": [
       "array([0., 0., 0., 0., 0., 0., 0., 0., 1., 1., 1., 1., 1., 5., 5., 5., 5.,\n",
       "       5., 5., 5., 5., 5., 5.])"
      ]
     },
     "execution_count": 7,
     "metadata": {},
     "output_type": "execute_result"
    }
   ],
   "source": [
    "# Create Array of Zeros, Ones, and Fives (Level 1)\n",
    "eight_zeros = np.zeros(8)\n",
    "five_ones = np.ones(5)\n",
    "ten_fives = np.ones(10) * 5\n",
    "zeros_ones_fives_array = np.hstack([eight_zeros, five_ones, ten_fives])\n",
    "zeros_ones_fives_array"
   ]
  },
  {
   "cell_type": "markdown",
   "id": "9267468a",
   "metadata": {},
   "source": [
    "## NumPy Array Operations"
   ]
  },
  {
   "cell_type": "markdown",
   "id": "7ca89b47",
   "metadata": {},
   "source": [
    "### Add Vector to Matrix Rows (Level 2)\n",
    "Add vector v = [2, 0, 2] to each row of matrix m with rows: [23,45,11], [12,23,54], [29,19,34], [1,23,10]."
   ]
  },
  {
   "cell_type": "code",
   "execution_count": 10,
   "id": "98b42b9d",
   "metadata": {},
   "outputs": [
    {
     "data": {
      "text/plain": [
       "array([[23, 45, 11],\n",
       "       [12, 23, 54],\n",
       "       [29, 19, 34],\n",
       "       [ 1, 23, 10],\n",
       "       [ 2,  0,  2]])"
      ]
     },
     "execution_count": 10,
     "metadata": {},
     "output_type": "execute_result"
    }
   ],
   "source": [
    "# Add Vector to Matrix Rows (Level 2)\n",
    "v = np.array([2, 0, 2])\n",
    "m = np.array(([23,45,11], [12,23,54], [29,19,34], [1,23,10]))\n",
    "m_w_v = np.vstack([m, v])\n",
    "m_w_v"
   ]
  },
  {
   "cell_type": "markdown",
   "id": "1155efe9",
   "metadata": {},
   "source": [
    "### 5x5 Array with Border Pattern (Level 2)\n",
    "Create a 5x5 2D array with value 1 on the border and value 25 in the interior."
   ]
  },
  {
   "cell_type": "code",
   "execution_count": 12,
   "id": "0ee5e898",
   "metadata": {},
   "outputs": [
    {
     "data": {
      "text/plain": [
       "array([[ 1.,  1.,  1.,  1.,  1.],\n",
       "       [ 1., 25., 25., 25.,  1.],\n",
       "       [ 1., 25., 25., 25.,  1.],\n",
       "       [ 1., 25., 25., 25.,  1.],\n",
       "       [ 1.,  1.,  1.,  1.,  1.]])"
      ]
     },
     "execution_count": 12,
     "metadata": {},
     "output_type": "execute_result"
    }
   ],
   "source": [
    "# 5x5 Array with Border Pattern (Level 2)\n",
    "five_five_array = np.ones((5, 5))\n",
    "five_five_array[1: 4, 1: 4] = 25\n",
    "five_five_array"
   ]
  },
  {
   "cell_type": "markdown",
   "id": "8b3e2d37",
   "metadata": {},
   "source": [
    "### Find Common Values Between Arrays (Level 1)\n",
    "Find common values between Array1 = [23, 45, 11, 5] and Array2 = [23, 5, 1]."
   ]
  },
  {
   "cell_type": "code",
   "execution_count": 15,
   "id": "34b31f1e",
   "metadata": {},
   "outputs": [
    {
     "data": {
      "text/plain": [
       "array([ 5, 23])"
      ]
     },
     "execution_count": 15,
     "metadata": {},
     "output_type": "execute_result"
    }
   ],
   "source": [
    "# Find Common Values Between Arrays (Level 1)\n",
    "array1 = np.array([23, 45, 11, 5])\n",
    "array2 = np.array([23, 5, 1])\n",
    "np.intersect1d(array1, array2)"
   ]
  },
  {
   "cell_type": "markdown",
   "id": "9594739f",
   "metadata": {},
   "source": [
    "### Stack and Split Arrays (Level 2)\n",
    "Perform horizontal stacking and vertical stacking; also split the combined arrays horizontally and vertically.\n",
    "Array1 rows: [23,45,11], [12,23,54], [1,23,10]\n",
    "Array2 rows: [3,5,1], [2,3,4], [9,1,5]"
   ]
  },
  {
   "cell_type": "code",
   "execution_count": 14,
   "id": "41b1b3a3",
   "metadata": {},
   "outputs": [
    {
     "data": {
      "text/plain": [
       "(array([[23, 45, 11,  3,  5,  1],\n",
       "        [12, 23, 54,  2,  3,  4],\n",
       "        [ 1, 23, 10,  9,  1,  5]]),\n",
       " array([[23, 45, 11],\n",
       "        [12, 23, 54],\n",
       "        [ 1, 23, 10],\n",
       "        [ 3,  5,  1],\n",
       "        [ 2,  3,  4],\n",
       "        [ 9,  1,  5]]),\n",
       " [array([[23, 45, 11],\n",
       "         [12, 23, 54],\n",
       "         [ 1, 23, 10]]),\n",
       "  array([[3, 5, 1],\n",
       "         [2, 3, 4],\n",
       "         [9, 1, 5]])],\n",
       " [array([[23, 45, 11],\n",
       "         [12, 23, 54],\n",
       "         [ 1, 23, 10]]),\n",
       "  array([[3, 5, 1],\n",
       "         [2, 3, 4],\n",
       "         [9, 1, 5]])])"
      ]
     },
     "execution_count": 14,
     "metadata": {},
     "output_type": "execute_result"
    }
   ],
   "source": [
    "# Stack and Split Arrays (Level 2)\n",
    "array1 = np.array(([23,45,11], [12,23,54], [1,23,10]))\n",
    "array2 = np.array(([3,5,1], [2,3,4], [9,1,5]))\n",
    "hori_stacking_array = np.hstack([array1, array2])\n",
    "vert_stacking_array = np.vstack([array1, array2])\n",
    "splitted_hori_stacking_array = np.hsplit(hori_stacking_array, 2)\n",
    "splitted_vert_stacking_array = np.vsplit(vert_stacking_array, 2)\n",
    "hori_stacking_array, vert_stacking_array, splitted_hori_stacking_array, splitted_vert_stacking_array"
   ]
  },
  {
   "cell_type": "markdown",
   "id": "3a482d4f",
   "metadata": {},
   "source": [
    "## Pandas DataFrame Exercises"
   ]
  },
  {
   "cell_type": "markdown",
   "id": "27dbbded",
   "metadata": {},
   "source": [
    "Consider the following dataframe for the remaining tasks <br>\n",
    "Sample DataFrame : "
   ]
  },
  {
   "cell_type": "code",
   "execution_count": 16,
   "id": "2c284bef",
   "metadata": {},
   "outputs": [],
   "source": [
    "assessment_results = {\n",
    "    'name': ['Anastasia', 'Paul', 'Kathe', 'Joseph', 'Linda', 'Michael', 'Matt', 'Laurentine', 'Chirstian', 'Jonas'], \n",
    "    'score': [12.5, 10, 16.5, np.nan, 9, 20, 14.5, np.nan, 8, 19], \n",
    "    'attempts': [1, 3, 2, 3, 2, 3, 1, 1, 2, 1], 'qualify': ['yes', 'no', 'yes', 'no', 'no', 'yes', 'yes', 'no', 'no', 'yes']\n",
    "} \n",
    "labels = ['a', 'b', 'c', 'd', 'e', 'f', 'g', 'h', 'i', 'j']"
   ]
  },
  {
   "cell_type": "markdown",
   "id": "2e64c059",
   "metadata": {},
   "source": [
    "### Get First Three Rows of DataFrame (Level 1)\n",
    "Write a Pandas program to get the first 3 rows of a given DataFrame."
   ]
  },
  {
   "cell_type": "code",
   "execution_count": null,
   "id": "da333e31",
   "metadata": {},
   "outputs": [],
   "source": [
    "# Get First Three Rows of DataFrame (Level 1)\n",
    "import pandas as pd"
   ]
  },
  {
   "cell_type": "markdown",
   "id": "0caadf41",
   "metadata": {},
   "source": [
    "### Select Rows by Attempts (Level 1)\n",
    "Select rows where the number of attempts in the exam is greater than 2."
   ]
  },
  {
   "cell_type": "code",
   "execution_count": null,
   "id": "726b2bd7",
   "metadata": {},
   "outputs": [],
   "source": [
    "# Select Rows by Attempts (Level 1)\n",
    "# TODO: Write your code here"
   ]
  },
  {
   "cell_type": "markdown",
   "id": "30e10449",
   "metadata": {},
   "source": [
    "### Count Rows and Columns (Level 1)\n",
    "Count the number of rows and columns in a DataFrame."
   ]
  },
  {
   "cell_type": "code",
   "execution_count": null,
   "id": "938e6cec",
   "metadata": {},
   "outputs": [],
   "source": [
    "# Count Rows and Columns (Level 1)\n",
    "# TODO: Write your code here"
   ]
  },
  {
   "cell_type": "markdown",
   "id": "ea92b922",
   "metadata": {},
   "source": [
    "### Select Rows by Score Range (Level 1)\n",
    "Select rows where the score is between 14 and 20 (inclusive)."
   ]
  },
  {
   "cell_type": "code",
   "execution_count": null,
   "id": "eb9ca683",
   "metadata": {},
   "outputs": [],
   "source": [
    "# Select Rows by Score Range (Level 1)\n",
    "# TODO: Write your code here"
   ]
  },
  {
   "cell_type": "markdown",
   "id": "73cbc5c5",
   "metadata": {},
   "source": [
    "### Change Score in Row 'c' (Level 1)\n",
    "Change the score in row label 'c' to 11.5."
   ]
  },
  {
   "cell_type": "code",
   "execution_count": null,
   "id": "daa2bd16",
   "metadata": {},
   "outputs": [],
   "source": [
    "# Change Score in Row 'c' (Level 1)\n",
    "# TODO: Write your code here"
   ]
  },
  {
   "cell_type": "markdown",
   "id": "3b484ae2",
   "metadata": {},
   "source": [
    "### Calculate Mean Score per Student (Level 2)\n",
    "Calculate the mean score for each different student in the DataFrame (handle missing values appropriately)."
   ]
  },
  {
   "cell_type": "code",
   "execution_count": null,
   "id": "99f4650d",
   "metadata": {},
   "outputs": [],
   "source": [
    "# Calculate Mean Score per Student (Level 2)\n",
    "# TODO: Write your code here"
   ]
  },
  {
   "cell_type": "markdown",
   "id": "cf0c21c2",
   "metadata": {},
   "source": [
    "## Reflection / Next Steps\n",
    "- Execute and test each code cell\n",
    "- Add brief comments explaining your approach for each exercise\n",
    "- Extend exercises with additional edge cases if desired"
   ]
  }
 ],
 "metadata": {
  "kernelspec": {
   "display_name": "lab",
   "language": "python",
   "name": "python3"
  },
  "language_info": {
   "codemirror_mode": {
    "name": "ipython",
    "version": 3
   },
   "file_extension": ".py",
   "mimetype": "text/x-python",
   "name": "python",
   "nbconvert_exporter": "python",
   "pygments_lexer": "ipython3",
   "version": "3.10.18"
  }
 },
 "nbformat": 4,
 "nbformat_minor": 5
}
