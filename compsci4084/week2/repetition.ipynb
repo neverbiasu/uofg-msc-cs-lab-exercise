{
 "cells": [
  {
   "cell_type": "markdown",
   "id": "ae69313e",
   "metadata": {},
   "source": [
    "# Lab Exercises - 2: Python Repetition\n",
    "\n",
    "**Topic:** Python Programming - Control Structures, Functions, and Data Structures  \n",
    "**Total Exercises:** 30  \n",
    "**Estimated Time:** 7-8 hours\n",
    "\n",
    "### Learning Objectives\n",
    "Master control structures (loops, conditionals), functions, data structures (lists, dictionaries, tuples, 2D arrays), user interaction, and random operations.\n",
    "\n",
    "### Exercise Overview\n",
    "**Level 1-2:** Basic loops, functions, random operations (Exercises 1-24)  \n",
    "**Level 3:** Advanced data structures and 2D operations (Exercises 25-30)\n",
    "\n",
    "---"
   ]
  },
  {
   "cell_type": "markdown",
   "id": "224510ce",
   "metadata": {},
   "source": [
    "# Table of Contents\n",
    "\n",
    "1. [Name Repetition](#name-repetition-level-1)\n",
    "2. [Selective Total](#selective-total-level-1)\n",
    "3. [Direction Counter](#direction-counter-level-1)\n",
    "4. [Continuous Addition](#continuous-addition-level-1)\n",
    "5. [Number Guessing Game](#number-guessing-game-level-2)\n",
    "6. [Green Bottles Song](#green-bottles-song-level-2)\n",
    "7. [Number Input and Counter Functions](#number-input-and-counter-functions-level-2)\n",
    "8. [Name List Manager](#name-list-manager-level-2)\n",
    "9. [Random Fruit Display](#random-fruit-display-level-1)\n",
    "10. [Coin Flip Game](#coin-flip-game-level-1)\n",
    "11. [Number Guessing (1-5)](#number-guessing-1-5-level-2)\n",
    "12. [Color Guessing Game](#color-guessing-game-level-2)\n",
    "13. [Draw Circle](#draw-circle-level-2)\n",
    "14. [Colorful Octagon](#colorful-octagon-level-2)\n",
    "15. [Random Pattern](#random-pattern-level-2)\n",
    "16. [Number List Search](#number-list-search-level-1)\n",
    "17. [Party Invitation List](#party-invitation-list-level-2)\n",
    "18. [Favorite Foods Dictionary](#favorite-foods-dictionary-level-2)\n",
    "19. [Country Tuple Operations](#country-tuple-operations-level-1)\n",
    "20. [Sort and Reverse](#sort-and-reverse-level-2)\n",
    "21. [Random Number Array](#random-number-array-level-2)\n",
    "22. [Array Joining](#array-joining-level-2)\n",
    "23. [Number Selection and Removal](#number-selection-and-removal-level-2)\n",
    "24. [Array Position Finder](#array-position-finder-level-2)\n",
    "25. [Decimal Array Division](#decimal-array-division-level-3)\n",
    "26. [2D List Value Access](#2d-list-value-access-level-3)\n",
    "27. [Row Modification](#row-modification-level-3)\n",
    "28. [2D List Element Change](#2d-list-element-change-level-3)\n",
    "29. [People Information List](#people-information-list-level-3)\n",
    "30. [Remove Person from List](#remove-person-from-list-level-3)\n",
    "\n",
    "**Total: 30 exercises | Estimated time: 7-8 hours**\n",
    "\n",
    "---"
   ]
  },
  {
   "cell_type": "markdown",
   "id": "a36d1b50",
   "metadata": {},
   "source": [
    "### Name Repetition\n",
    "Write a programme that asks the user to enter their name and a number. If the number is less than 10, then display their name that number of times; otherwise, display the message \"Too high\" three times."
   ]
  },
  {
   "cell_type": "code",
   "execution_count": 1,
   "id": "1e78e916",
   "metadata": {},
   "outputs": [
    {
     "name": "stdout",
     "output_type": "stream",
     "text": [
      "faych\n",
      "faych\n",
      "faych\n",
      "faych\n"
     ]
    }
   ],
   "source": [
    "# Name Repetition\n",
    "name = input(\"Please enter your name: \")\n",
    "number = int(input(\"Please enter a number: \"))\n",
    "\n",
    "if number < 10:\n",
    "    for i in range(0, number):\n",
    "        print(name)"
   ]
  },
  {
   "cell_type": "markdown",
   "id": "c9092ded",
   "metadata": {},
   "source": [
    "### Selective Total\n",
    "Set a variable called `total` to 0. Your programme should ask the user to enter five numbers and after each input, ask them if they want that number to be included. If they do, the programme should then add the number to the total. If they do not want it included, the programme shouldn't add the number to the total. After the user has entered all five numbers, display the total."
   ]
  },
  {
   "cell_type": "code",
   "execution_count": 4,
   "id": "44a51e1d",
   "metadata": {},
   "outputs": [
    {
     "name": "stdout",
     "output_type": "stream",
     "text": [
      "The total number is:  9\n"
     ]
    }
   ],
   "source": [
    "# Selective Total\n",
    "total = 0\n",
    "\n",
    "for i in range(0, 5):\n",
    "    number = int(input(\"Please enter a number: \"))\n",
    "    choice = input(\"If you want this number to be included, yes or no?: \")\n",
    "    if choice == \"yes\":\n",
    "        total += number\n",
    "    else:\n",
    "        continue\n",
    "\n",
    "print(\"The total number is: \", total)"
   ]
  },
  {
   "cell_type": "markdown",
   "id": "199643dc",
   "metadata": {},
   "source": [
    "### Direction Counter\n",
    "Write a programme that asks which direction the user wants to count (up or down). If they select **up**, then the programme should ask them for the top number and count from 1 to that number. If the user selects **down**, the programme should ask them to enter a number below 20 and then count down from 20 to that number. If the user entered something other than *up* or *down*, display the message \"I don't understand\"."
   ]
  },
  {
   "cell_type": "code",
   "execution_count": null,
   "id": "9cb5abf8",
   "metadata": {},
   "outputs": [],
   "source": [
    "# Direction Counter\n",
    "direction = input(\"Which direction do you want to count (up/down)? \").strip().lower()\n",
    "if direction == \"up\":\n",
    "    try:\n",
    "        top = int(input(\"Enter the top number: \").strip())\n",
    "        if top < 1:\n",
    "            print(\"Top number must be at least 1.\")\n",
    "        else:\n",
    "            for i in range(1, top + 1):\n",
    "                print(i)\n",
    "    except ValueError:\n",
    "        print(\"Please enter a valid integer for the top number.\")\n",
    "elif direction == \"down\":\n",
    "    try:\n",
    "        bottom = int(input(\"Enter a bottom number below 20: \").strip())\n",
    "        if bottom >= 20:\n",
    "            print(\"Number must be below 20.\")\n",
    "        else:\n",
    "            for i in range(20, bottom - 1, -1):\n",
    "                print(i)\n",
    "    except ValueError:\n",
    "        print(\"Please enter a valid integer for the bottom number.\")\n",
    "else:\n",
    "    print(\"I don't understand.\")"
   ]
  },
  {
   "cell_type": "markdown",
   "id": "3b945f06",
   "metadata": {},
   "source": [
    "### Continuous Addition\n",
    "Write a programme that asks the user to enter a number and then enter another number. The programme should add these two numbers together and then ask if they want to add another number. If the user enters \"y\", the programme will ask them to enter another number and will keep adding numbers until the user stops answering \"y\". Once the loop has stopped, display the total."
   ]
  },
  {
   "cell_type": "code",
   "execution_count": 9,
   "id": "f3252985",
   "metadata": {},
   "outputs": [
    {
     "name": "stdout",
     "output_type": "stream",
     "text": [
      "The total number is:  6\n"
     ]
    }
   ],
   "source": [
    "# Continuous Addition\n",
    "total = 0\n",
    "first_number = int(input(\"Please enter a number: \"))\n",
    "second_number = int(input(\"Please enter another number: \"))\n",
    "total = first_number + second_number\n",
    "\n",
    "if_continued = input(\"If you want to add another number, yes(y) or no(n): \")\n",
    "while if_continued == \"y\":\n",
    "    another_number = int(input(\"Please enter another number: \"))\n",
    "    total += another_number\n",
    "    if_continued = input(\"If you want to add another number, yes(y) or no(n): \")\n",
    "\n",
    "print(\"The total number is: \", total)"
   ]
  },
  {
   "cell_type": "markdown",
   "id": "a6ceda97",
   "metadata": {},
   "source": [
    "### Number Guessing Game (Level 2)\n",
    "Create a variable called `compnum` and set the value to 50. Ask the user to enter a number. While their guess is not the same as the `compnum` value, tell them if their guess is too high or too low and ask them to have another guess. If they enter the same value as `compnum`, display the message \"Well done, you took [count] attempts\"."
   ]
  },
  {
   "cell_type": "code",
   "execution_count": 14,
   "id": "9954d458",
   "metadata": {},
   "outputs": [
    {
     "name": "stdout",
     "output_type": "stream",
     "text": [
      "The number you guessed is too low.\n",
      "The number you guessed is too high.\n",
      "Well done, you took 3 attempts\n"
     ]
    }
   ],
   "source": [
    "# Number Guessing Game\n",
    "compnum = 50\n",
    "count = 1\n",
    "\n",
    "guess = int(input(\"Please enter a number you guessed: \"))\n",
    "\n",
    "while guess != compnum:\n",
    "    if guess > compnum:\n",
    "        print(\"The number you guessed is too high.\")\n",
    "    elif guess < compnum:\n",
    "        print(\"The number you guessed is too low.\")\n",
    "    count += 1\n",
    "    guess = int(input(\"Please enter a number you guessed: \"))\n",
    "\n",
    "print(f\"Well done, you took {count} attempts\")"
   ]
  },
  {
   "cell_type": "markdown",
   "id": "6355f5ce",
   "metadata": {},
   "source": [
    "### Green Bottles Song (Level 2)\n",
    "Using the song \"10 green bottles\", display the lines: \"There are [num] green bottles hanging on the wall, [num] green bottles hanging on the wall, and if 1 green bottle should accidentally fall.\" Then ask the question: \"How many green bottles will be hanging on the wall?\" If the user answers correctly, display the message: \"There will be [num] green bottles hanging on the wall\". If they answer incorrectly, display the message \"No, try again\" until they get it right. When the number of green bottles gets down to 0, display the message: \"There are no more green bottles hanging on the wall\"."
   ]
  },
  {
   "cell_type": "code",
   "execution_count": 18,
   "id": "f436b444",
   "metadata": {},
   "outputs": [
    {
     "name": "stdout",
     "output_type": "stream",
     "text": [
      "There are 10 green bottles hanging on the wall,\n",
      "10 green bottles hanging on the wall,\n",
      "And if 1 green bottle should accidentally fall,\n",
      "No, try again\n",
      "There will be 9 green bottles hanging on the wall.\n",
      "\n",
      "There are 9 green bottles hanging on the wall,\n",
      "9 green bottles hanging on the wall,\n",
      "And if 1 green bottle should accidentally fall,\n",
      "There will be 8 green bottles hanging on the wall.\n",
      "\n",
      "There are 8 green bottles hanging on the wall,\n",
      "8 green bottles hanging on the wall,\n",
      "And if 1 green bottle should accidentally fall,\n",
      "There will be 7 green bottles hanging on the wall.\n",
      "\n",
      "There are 7 green bottles hanging on the wall,\n",
      "7 green bottles hanging on the wall,\n",
      "And if 1 green bottle should accidentally fall,\n",
      "There will be 6 green bottles hanging on the wall.\n",
      "\n",
      "There are 6 green bottles hanging on the wall,\n",
      "6 green bottles hanging on the wall,\n",
      "And if 1 green bottle should accidentally fall,\n",
      "There will be 5 green bottles hanging on the wall.\n",
      "\n",
      "There are 5 green bottles hanging on the wall,\n",
      "5 green bottles hanging on the wall,\n",
      "And if 1 green bottle should accidentally fall,\n",
      "There will be 4 green bottles hanging on the wall.\n",
      "\n",
      "There are 4 green bottles hanging on the wall,\n",
      "4 green bottles hanging on the wall,\n",
      "And if 1 green bottle should accidentally fall,\n",
      "There will be 3 green bottles hanging on the wall.\n",
      "\n",
      "There are 3 green bottles hanging on the wall,\n",
      "3 green bottles hanging on the wall,\n",
      "And if 1 green bottle should accidentally fall,\n",
      "There will be 2 green bottles hanging on the wall.\n",
      "\n",
      "There are 2 green bottles hanging on the wall,\n",
      "2 green bottles hanging on the wall,\n",
      "And if 1 green bottle should accidentally fall,\n",
      "There will be 1 green bottle hanging on the wall.\n",
      "\n",
      "There are 1 green bottle hanging on the wall,\n",
      "1 green bottle hanging on the wall,\n",
      "And if 1 green bottle should accidentally fall,\n",
      "There are no more green bottles hanging on the wall\n"
     ]
    }
   ],
   "source": [
    "# Green Bottles Song\n",
    "\n",
    "\n",
    "def bottles_text(n):\n",
    "    return f\"{n} green bottle{'s' if n != 1 else ''}\"\n",
    "\n",
    "\n",
    "for bottles in range(10, 0, -1):\n",
    "    # print the verse for the current number of bottles\n",
    "    print(f\"There are {bottles_text(bottles)} hanging on the wall,\")\n",
    "    print(f\"{bottles_text(bottles)} hanging on the wall,\")\n",
    "    print(\"And if 1 green bottle should accidentally fall,\")\n",
    "\n",
    "    expected = bottles - 1\n",
    "    while True:\n",
    "        ans = input(\"How many green bottles will be hanging on the wall? \").strip()\n",
    "        if not ans.isdigit():\n",
    "            print(\"Please enter a valid whole number.\")\n",
    "            continue\n",
    "        answer = int(ans)\n",
    "        if answer == expected:\n",
    "            if expected > 0:\n",
    "                print(f\"There will be {bottles_text(expected)} hanging on the wall.\\n\")\n",
    "            else:\n",
    "                print(\"There are no more green bottles hanging on the wall\")\n",
    "            break\n",
    "        else:\n",
    "            print(\"No, try again\")"
   ]
  },
  {
   "cell_type": "markdown",
   "id": "b0aa54ca",
   "metadata": {},
   "source": [
    "### Number Input and Counter Functions (Level 2)\n",
    "Define a function that will ask the user to enter a number and save it as the variable `num`. Define another function that will use `num` and count from 1 to that number."
   ]
  },
  {
   "cell_type": "code",
   "execution_count": null,
   "id": "8bf7fdf2",
   "metadata": {},
   "outputs": [],
   "source": [
    "# Number Input and Counter Functions\n",
    "def ask_a_number():\n",
    "    while True:\n",
    "        try:\n",
    "            return int(input(\"Please enter a number: \").strip())\n",
    "        except ValueError:\n",
    "            print(\"Please enter a valid whole number.\")\n",
    "\n",
    "\n",
    "def count_from_one(num):\n",
    "    for i in range(1, num + 1):\n",
    "        print(i)\n",
    "\n",
    "\n",
    "# Example usage:\n",
    "# n = ask_a_number()\n",
    "# count_from_one(n)"
   ]
  },
  {
   "cell_type": "markdown",
   "id": "2fb6f4ee",
   "metadata": {},
   "source": [
    "### Name List Manager (Level 2)\n",
    "Create a programme that will allow the user to easily manage a list of names. You should display a menu that will allow them to add a name to the list, change the name in the list, delete a name from the list or view all the names in the list. There should be a menu option to allow the user to end the programme."
   ]
  },
  {
   "cell_type": "code",
   "execution_count": 19,
   "id": "116b70b2",
   "metadata": {},
   "outputs": [
    {
     "name": "stdout",
     "output_type": "stream",
     "text": [
      "\n",
      "Name List Manager\n",
      "1. Add a name\n",
      "2. Change a name\n",
      "3. Delete a name\n",
      "4. View all names\n",
      "5. Exit\n",
      "Added: sick\n",
      "\n",
      "Name List Manager\n",
      "1. Add a name\n",
      "2. Change a name\n",
      "3. Delete a name\n",
      "4. View all names\n",
      "5. Exit\n",
      "Added: sick\n",
      "\n",
      "Name List Manager\n",
      "1. Add a name\n",
      "2. Change a name\n",
      "3. Delete a name\n",
      "4. View all names\n",
      "5. Exit\n",
      "1. sick\n",
      "1. sick\n",
      "Name updated.\n",
      "\n",
      "Name List Manager\n",
      "1. Add a name\n",
      "2. Change a name\n",
      "3. Delete a name\n",
      "4. View all names\n",
      "5. Exit\n",
      "Name updated.\n",
      "\n",
      "Name List Manager\n",
      "1. Add a name\n",
      "2. Change a name\n",
      "3. Delete a name\n",
      "4. View all names\n",
      "5. Exit\n",
      "Names:\n",
      "1. weak\n",
      "\n",
      "Name List Manager\n",
      "1. Add a name\n",
      "2. Change a name\n",
      "3. Delete a name\n",
      "4. View all names\n",
      "5. Exit\n",
      "Names:\n",
      "1. weak\n",
      "\n",
      "Name List Manager\n",
      "1. Add a name\n",
      "2. Change a name\n",
      "3. Delete a name\n",
      "4. View all names\n",
      "5. Exit\n",
      "Names:\n",
      "1. weak\n",
      "\n",
      "Name List Manager\n",
      "1. Add a name\n",
      "2. Change a name\n",
      "3. Delete a name\n",
      "4. View all names\n",
      "5. Exit\n",
      "Names:\n",
      "1. weak\n",
      "\n",
      "Name List Manager\n",
      "1. Add a name\n",
      "2. Change a name\n",
      "3. Delete a name\n",
      "4. View all names\n",
      "5. Exit\n",
      "1. weak\n",
      "1. weak\n",
      "Invalid selection.\n",
      "\n",
      "Name List Manager\n",
      "1. Add a name\n",
      "2. Change a name\n",
      "3. Delete a name\n",
      "4. View all names\n",
      "5. Exit\n",
      "Invalid selection.\n",
      "\n",
      "Name List Manager\n",
      "1. Add a name\n",
      "2. Change a name\n",
      "3. Delete a name\n",
      "4. View all names\n",
      "5. Exit\n",
      "Names:\n",
      "1. weak\n",
      "\n",
      "Name List Manager\n",
      "1. Add a name\n",
      "2. Change a name\n",
      "3. Delete a name\n",
      "4. View all names\n",
      "5. Exit\n",
      "Names:\n",
      "1. weak\n",
      "\n",
      "Name List Manager\n",
      "1. Add a name\n",
      "2. Change a name\n",
      "3. Delete a name\n",
      "4. View all names\n",
      "5. Exit\n",
      "Exiting Name List Manager.\n"
     ]
    }
   ],
   "source": [
    "# Name List Manager\n",
    "names = []\n",
    "\n",
    "\n",
    "def print_menu():\n",
    "    print(\"\\nName List Manager\")\n",
    "    print(\"1. Add a name\")\n",
    "    print(\"2. Change a name\")\n",
    "    print(\"3. Delete a name\")\n",
    "    print(\"4. View all names\")\n",
    "    print(\"5. Exit\")\n",
    "\n",
    "\n",
    "while True:\n",
    "    print_menu()\n",
    "    choice = input(\"Choose an option (1-5): \").strip()\n",
    "\n",
    "    if choice == \"1\":\n",
    "        name = input(\"Enter name to add: \").strip()\n",
    "        if name:\n",
    "            names.append(name)\n",
    "            print(f\"Added: {name}\")\n",
    "        else:\n",
    "            print(\"No name entered.\")\n",
    "\n",
    "    elif choice == \"2\":\n",
    "        if not names:\n",
    "            print(\"List is empty.\")\n",
    "            continue\n",
    "        for i, n in enumerate(names, 1):\n",
    "            print(f\"{i}. {n}\")\n",
    "        idx = input(\"Enter number of the name to change: \").strip()\n",
    "        if not idx.isdigit() or not (1 <= int(idx) <= len(names)):\n",
    "            print(\"Invalid selection.\")\n",
    "            continue\n",
    "        new_name = input(\"Enter the new name: \").strip()\n",
    "        if new_name:\n",
    "            names[int(idx) - 1] = new_name\n",
    "            print(\"Name updated.\")\n",
    "        else:\n",
    "            print(\"No name entered.\")\n",
    "\n",
    "    elif choice == \"3\":\n",
    "        if not names:\n",
    "            print(\"List is empty.\")\n",
    "            continue\n",
    "        for i, n in enumerate(names, 1):\n",
    "            print(f\"{i}. {n}\")\n",
    "        idx = input(\"Enter number of the name to delete: \").strip()\n",
    "        if not idx.isdigit() or not (1 <= int(idx) <= len(names)):\n",
    "            print(\"Invalid selection.\")\n",
    "            continue\n",
    "        removed = names.pop(int(idx) - 1)\n",
    "        print(f\"Removed: {removed}\")\n",
    "\n",
    "    elif choice == \"4\":\n",
    "        if not names:\n",
    "            print(\"No names in the list.\")\n",
    "        else:\n",
    "            print(\"Names:\")\n",
    "            for i, n in enumerate(names, 1):\n",
    "                print(f\"{i}. {n}\")\n",
    "\n",
    "    elif choice == \"5\":\n",
    "        print(\"Exiting Name List Manager.\")\n",
    "        break\n",
    "\n",
    "    else:\n",
    "        print(\"Invalid option, please choose 1-5.\")"
   ]
  },
  {
   "cell_type": "markdown",
   "id": "8e4b41f4",
   "metadata": {},
   "source": [
    "### Random Fruit Display\n",
    "Write a programme that displays a random fruit from a list of 5 fruits."
   ]
  },
  {
   "cell_type": "code",
   "execution_count": 20,
   "id": "f096230f",
   "metadata": {},
   "outputs": [
    {
     "name": "stdout",
     "output_type": "stream",
     "text": [
      "Random fruit: grape\n"
     ]
    }
   ],
   "source": [
    "# Random Fruit Display\n",
    "import random\n",
    "\n",
    "fruits = [\"apple\", \"banana\", \"orange\", \"grape\", \"pear\"]\n",
    "print(\"Random fruit:\", random.choice(fruits))"
   ]
  },
  {
   "cell_type": "markdown",
   "id": "bc41b8e2",
   "metadata": {},
   "source": [
    "### Coin Flip Game\n",
    "Write a programme that randomly chooses either heads or tails (\"h\" or \"t\"). The programme asks the user to make a choice. If their choice is the same as the randomly selected value, display the message \"You win\", otherwise display \"Bad luck\". At the end, tell the user if the computer selected heads or tails."
   ]
  },
  {
   "cell_type": "code",
   "execution_count": 21,
   "id": "b8e2aaab",
   "metadata": {},
   "outputs": [
    {
     "name": "stdout",
     "output_type": "stream",
     "text": [
      "You win\n",
      "The computer selected: heads\n"
     ]
    }
   ],
   "source": [
    "import random\n",
    "\n",
    "# Coin Flip Game\n",
    "flip = random.choice([\"h\", \"t\"])\n",
    "user_choice = input(\"Heads or tails? (h/t): \").strip().lower()\n",
    "\n",
    "if user_choice == flip:\n",
    "    print(\"You win\")\n",
    "else:\n",
    "    print(\"Bad luck\")\n",
    "\n",
    "print(\"The computer selected:\", \"heads\" if flip == \"h\" else \"tails\")"
   ]
  },
  {
   "cell_type": "markdown",
   "id": "2fc8a4cb",
   "metadata": {},
   "source": [
    "### Number Guessing (1-5) (Level 2)\n",
    "Write a programme that randomly chooses a number between 1 and 5. The programme should ask the user to pick a number. If they guess correctly, display the message \"Well done\", otherwise the programme should tell them if they are too high or too low and should ask them to pick a second number."
   ]
  },
  {
   "cell_type": "code",
   "execution_count": 22,
   "id": "33b54575",
   "metadata": {},
   "outputs": [
    {
     "name": "stdout",
     "output_type": "stream",
     "text": [
      "Too low\n",
      "Sorry, the correct number was 5\n"
     ]
    }
   ],
   "source": [
    "import random\n",
    "\n",
    "# Number Guessing (1-5)\n",
    "number = random.randint(1, 5)\n",
    "guess = int(input(\"Guess a number between 1 and 5: \"))\n",
    "\n",
    "if guess == number:\n",
    "    print(\"Well done\")\n",
    "else:\n",
    "    if guess > number:\n",
    "        print(\"Too high\")\n",
    "    else:\n",
    "        print(\"Too low\")\n",
    "    guess = int(input(\"Try again: \"))\n",
    "    if guess == number:\n",
    "        print(\"Well done\")\n",
    "    else:\n",
    "        print(f\"Sorry, the correct number was {number}\")"
   ]
  },
  {
   "cell_type": "markdown",
   "id": "98b5c0c6",
   "metadata": {},
   "source": [
    "### Color Guessing Game (Level 2)\n",
    "Write a programme that displays five colours and asks the user to pick one. If they pick the same as the programme has chosen, say \"Well done\", otherwise display a witty answer which involves the correct colour. The programme should ask them to guess again until they guess it correctly."
   ]
  },
  {
   "cell_type": "code",
   "execution_count": 23,
   "id": "e87c2421",
   "metadata": {},
   "outputs": [
    {
     "name": "stdout",
     "output_type": "stream",
     "text": [
      "The available colors are: red, blue, green, yellow, purple\n",
      "Nope, it was green – the color of a sneaky chameleon! Try again.\n",
      "Nope, it was green – the color of a sneaky chameleon! Try again.\n",
      "Well done!\n"
     ]
    }
   ],
   "source": [
    "import random\n",
    "\n",
    "# Color Guessing Game\n",
    "\n",
    "colors = [\"red\", \"blue\", \"green\", \"yellow\", \"purple\"]\n",
    "correct_color = random.choice(colors)\n",
    "\n",
    "print(\"The available colors are:\", \", \".join(colors))\n",
    "\n",
    "while True:\n",
    "    guess = input(\"Pick a color: \").strip().lower()\n",
    "    if guess == correct_color:\n",
    "        print(\"Well done!\")\n",
    "        break\n",
    "    else:\n",
    "        print(\n",
    "            f\"Nope, it was {correct_color} – the color of a sneaky chameleon! Try again.\"\n",
    "        )"
   ]
  },
  {
   "cell_type": "markdown",
   "id": "7b3b2377",
   "metadata": {},
   "source": [
    "### Draw Circle (Level 2)\n",
    "Draw a circle."
   ]
  },
  {
   "cell_type": "code",
   "execution_count": null,
   "id": "b4fa0a8c",
   "metadata": {},
   "outputs": [
    {
     "ename": "",
     "evalue": "",
     "output_type": "error",
     "traceback": [
      "\u001b[1;31m在当前单元格或上一个单元格中执行代码时 Kernel 崩溃。\n",
      "\u001b[1;31m请查看单元格中的代码，以确定故障的可能原因。\n",
      "\u001b[1;31m单击<a href='https://aka.ms/vscodeJupyterKernelCrash'>此处</a>了解详细信息。\n",
      "\u001b[1;31m有关更多详细信息，请查看 Jupyter <a href='command:jupyter.viewOutput'>log</a>。"
     ]
    }
   ],
   "source": [
    "import turtle\n",
    "\n",
    "# Draw Circle\n",
    "screen = turtle.Screen()\n",
    "t = turtle.Turtle()\n",
    "t.circle(100)"
   ]
  },
  {
   "cell_type": "markdown",
   "id": "034be617",
   "metadata": {},
   "source": [
    "### Colorful Octagon (Level 2)\n",
    "Draw an octagon that uses a different colour (randomly selected from a list of six possible colours) for each line."
   ]
  },
  {
   "cell_type": "code",
   "execution_count": null,
   "id": "520e67c9",
   "metadata": {},
   "outputs": [],
   "source": [
    "import random\n",
    "\n",
    "# Colorful Octagon\n",
    "\n",
    "colors = [\"red\", \"blue\", \"green\", \"yellow\", \"purple\", \"orange\"]\n",
    "\n",
    "for _ in range(8):\n",
    "    t.color(random.choice(colors))\n",
    "    t.forward(100)\n",
    "    t.right(45)"
   ]
  },
  {
   "cell_type": "markdown",
   "id": "cba57cc6",
   "metadata": {},
   "source": [
    "### Random Pattern (Level 2)\n",
    "Draw a pattern that will change each time the programme is run. Use random function to pick the number of lines, the length of each line and the angle of each turn."
   ]
  },
  {
   "cell_type": "code",
   "execution_count": null,
   "id": "7ad79117",
   "metadata": {},
   "outputs": [],
   "source": [
    "import random\n",
    "\n",
    "# Random Pattern\n",
    "num_lines = random.randint(5, 15)\n",
    "for _ in range(num_lines):\n",
    "    length = random.randint(50, 150)\n",
    "    angle = random.randint(30, 180)\n",
    "    t.forward(length)\n",
    "    t.right(angle)"
   ]
  },
  {
   "cell_type": "markdown",
   "id": "b80f4e77",
   "metadata": {},
   "source": [
    "### Number List Search\n",
    "Create a list of four three-digit numbers. Display the list to the user, showing each item from the list on a separate line. Ask the user to enter a three-digit number. If the number matches one in the list, display the position otherwise display \"That's not in the list\"."
   ]
  },
  {
   "cell_type": "code",
   "execution_count": null,
   "id": "80486ea4",
   "metadata": {},
   "outputs": [],
   "source": [
    "# Number List Search\n",
    "numbers = [123, 456, 789, 101]\n",
    "\n",
    "print(\"The list of numbers:\")\n",
    "for num in numbers:\n",
    "    print(num)\n",
    "\n",
    "user_input = int(input(\"Enter a three-digit number: \"))\n",
    "\n",
    "if user_input in numbers:\n",
    "    position = numbers.index(user_input) + 1\n",
    "    print(f\"The position of {user_input} is {position}\")\n",
    "else:\n",
    "    print(\"That's not in the list\")"
   ]
  },
  {
   "cell_type": "markdown",
   "id": "0f059509",
   "metadata": {},
   "source": [
    "### Party Invitation List (Level 2)\n",
    "Write a programme that asks the user to enter the names of three people they want to invite to a party and store them in a list. After they have entered all three names, ask them if they want to add another. When they say \"no\", display how many people they have invited to the party."
   ]
  },
  {
   "cell_type": "code",
   "execution_count": null,
   "id": "ef427cc5",
   "metadata": {},
   "outputs": [],
   "source": [
    "# Party Invitation List\n",
    "invites = []\n",
    "\n",
    "for i in range(3):\n",
    "    name = input(f\"Enter name {i+1}: \").strip()\n",
    "    invites.append(name)\n",
    "\n",
    "while True:\n",
    "    add_more = input(\"Do you want to add another? (yes/no): \").strip().lower()\n",
    "    if add_more == \"yes\":\n",
    "        name = input(\"Enter another name: \").strip()\n",
    "        invites.append(name)\n",
    "    else:\n",
    "        break\n",
    "\n",
    "print(f\"You have invited {len(invites)} people to the party.\")"
   ]
  },
  {
   "cell_type": "markdown",
   "id": "b57c7d43",
   "metadata": {},
   "source": [
    "### Favorite Foods Dictionary (Level 2)\n",
    "Create a programme that asks the user to enter four of their favourite foods and store them in a dictionary so that they are associated with keys starting from 1. Display the dictionary in full, showing the key-value pairs. The programme should ask the user which key-value pair they want to get rid of and remove it from the dictionary."
   ]
  },
  {
   "cell_type": "code",
   "execution_count": null,
   "id": "de41db2a",
   "metadata": {},
   "outputs": [],
   "source": [
    "# Favorite Foods Dictionary\n",
    "foods = {}\n",
    "for i in range(1, 5):\n",
    "    food = input(f\"Enter your favorite food {i}: \").strip()\n",
    "    foods[i] = food\n",
    "\n",
    "print(\"Favorite foods dictionary:\")\n",
    "for key, value in foods.items():\n",
    "    print(f\"{key}: {value}\")\n",
    "\n",
    "remove_key = int(input(\"Enter the key of the food you want to remove: \"))\n",
    "if remove_key in foods:\n",
    "    del foods[remove_key]\n",
    "    print(\"Updated dictionary:\")\n",
    "    for key, value in foods.items():\n",
    "        print(f\"{key}: {value}\")\n",
    "else:\n",
    "    print(\"Invalid key.\")"
   ]
  },
  {
   "cell_type": "markdown",
   "id": "74becd38",
   "metadata": {},
   "source": [
    "### Country Tuple Operations\n",
    "Create a tuple containing the names of five countries and display the whole tuple. Ask the user to enter one of the countries and then display the index number of that item in the tuple. Next, ask the user to enter a number (index) and display the country in that position."
   ]
  },
  {
   "cell_type": "code",
   "execution_count": null,
   "id": "eb25a6a1",
   "metadata": {},
   "outputs": [],
   "source": [
    "# Country Tuple Operations\n",
    "countries = (\"USA\", \"Canada\", \"UK\", \"France\", \"Germany\")\n",
    "print(\"Countries tuple:\", countries)\n",
    "\n",
    "country = input(\"Enter one of the countries: \").strip()\n",
    "if country in countries:\n",
    "    index = countries.index(country)\n",
    "    print(f\"The index of {country} is {index}\")\n",
    "else:\n",
    "    print(\"Country not found in the tuple.\")\n",
    "\n",
    "try:\n",
    "    idx = int(input(\"Enter an index number: \"))\n",
    "    if 0 <= idx < len(countries):\n",
    "        print(f\"The country at index {idx} is {countries[idx]}\")\n",
    "    else:\n",
    "        print(\"Index out of range.\")\n",
    "except ValueError:\n",
    "    print(\"Please enter a valid integer for the index.\")"
   ]
  },
  {
   "cell_type": "markdown",
   "id": "0a411204",
   "metadata": {},
   "source": [
    "### Sort and Reverse (Level 2)\n",
    "Write a programme that asks the user for a list of five integers. Store them in an array. Sort the list and displays it in reverse order."
   ]
  },
  {
   "cell_type": "code",
   "execution_count": null,
   "id": "13c90047",
   "metadata": {},
   "outputs": [],
   "source": [
    "# Sort and Reverse\n",
    "numbers = []\n",
    "for i in range(5):\n",
    "    num = int(input(f\"Enter integer {i+1}: \"))\n",
    "    numbers.append(num)\n",
    "\n",
    "numbers.sort()\n",
    "print(\"Sorted list in reverse order:\", numbers[::-1])"
   ]
  },
  {
   "cell_type": "markdown",
   "id": "bb3b1054",
   "metadata": {},
   "source": [
    "### Random Number Array (Level 2)\n",
    "Create an array which will store a list of integers. Generate five random numbers and store them in the array. Display the array (showing each item on a separate line)."
   ]
  },
  {
   "cell_type": "code",
   "execution_count": null,
   "id": "4550100c",
   "metadata": {},
   "outputs": [],
   "source": [
    "# Random Number Array\n",
    "numbers = [random.randint(1, 100) for _ in range(5)]\n",
    "for num in numbers:\n",
    "    print(num)"
   ]
  },
  {
   "cell_type": "markdown",
   "id": "3a0ae5e7",
   "metadata": {},
   "source": [
    "### Array Joining (Level 2)\n",
    "Create two arrays (one containing three numbers that the user enters and one containing a set of five random numbers). Join these two arrays together into one large array. Sort this large array and display it."
   ]
  },
  {
   "cell_type": "code",
   "execution_count": null,
   "id": "47bb2b9b",
   "metadata": {},
   "outputs": [],
   "source": [
    "# Array Joining\n",
    "user_numbers = []\n",
    "for i in range(3):\n",
    "    num = int(input(f\"Enter number {i+1}: \"))\n",
    "    user_numbers.append(num)\n",
    "\n",
    "random_numbers = [random.randint(1, 100) for _ in range(5)]\n",
    "\n",
    "combined = user_numbers + random_numbers\n",
    "combined.sort()\n",
    "print(\"Combined and sorted array:\", combined)"
   ]
  },
  {
   "cell_type": "markdown",
   "id": "26ad4d37",
   "metadata": {},
   "source": [
    "### Number Selection and Removal (Level 2)\n",
    "Ask the user to enter five numbers. Sort them in order and present them to the user. Ask them to select one of the numbers. Remove it from the original array and save it in a new array."
   ]
  },
  {
   "cell_type": "code",
   "execution_count": null,
   "id": "cd96b794",
   "metadata": {},
   "outputs": [],
   "source": [
    "# Number Selection and Removal\n",
    "numbers = []\n",
    "for i in range(5):\n",
    "    num = int(input(f\"Enter number {i+1}: \"))\n",
    "    numbers.append(num)\n",
    "\n",
    "numbers.sort()\n",
    "print(\"Sorted numbers:\", numbers)\n",
    "\n",
    "selected = int(input(\"Select one of the numbers: \"))\n",
    "if selected in numbers:\n",
    "    numbers.remove(selected)\n",
    "    new_array = [selected]\n",
    "    print(\"Original array after removal:\", numbers)\n",
    "    print(\"New array:\", new_array)\n",
    "else:\n",
    "    print(\"Selected number not in the list.\")"
   ]
  },
  {
   "cell_type": "markdown",
   "id": "8fd0c634",
   "metadata": {},
   "source": [
    "### Array Position Finder (Level 2)\n",
    "Display an array of five numbers. Ask the user to select one of the numbers. Once they have selected a number, display the position of that number in the array. If they enter something that is not in the array, ask them to try again."
   ]
  },
  {
   "cell_type": "code",
   "execution_count": null,
   "id": "87738530",
   "metadata": {},
   "outputs": [],
   "source": [
    "import random\n",
    "\n",
    "# Array Position Finder\n",
    "\n",
    "numbers = [random.randint(1, 100) for _ in range(5)]\n",
    "print(\"Array of five numbers:\")\n",
    "for i, num in enumerate(numbers, 1):\n",
    "    print(f\"{i}: {num}\")\n",
    "\n",
    "while True:\n",
    "    try:\n",
    "        selected = int(input(\"Select one of the numbers: \"))\n",
    "        if selected in numbers:\n",
    "            position = numbers.index(selected) + 1\n",
    "            print(f\"The position of {selected} is {position}\")\n",
    "            break\n",
    "        else:\n",
    "            print(\"That number is not in the array. Try again.\")\n",
    "    except ValueError:\n",
    "        print(\"Please enter a valid number.\")"
   ]
  },
  {
   "cell_type": "markdown",
   "id": "8d663f4a",
   "metadata": {},
   "source": [
    "### Decimal Array Division (Level 3)\n",
    "Create an array of five numbers between 10 and 100 which each have two decimal places. Ask the user to enter a whole number between 2 and 5. Divide each of the numbers in the array by the number entered and display the answers shown to two decimal places."
   ]
  },
  {
   "cell_type": "code",
   "execution_count": null,
   "id": "427ada56",
   "metadata": {},
   "outputs": [],
   "source": [
    "import random\n",
    "\n",
    "# Decimal Array Division\n",
    "\n",
    "numbers = [round(random.uniform(10, 100), 2) for _ in range(5)]\n",
    "print(\"Array of numbers:\", numbers)\n",
    "\n",
    "while True:\n",
    "    try:\n",
    "        divisor = int(input(\"Enter a whole number between 2 and 5: \"))\n",
    "        if 2 <= divisor <= 5:\n",
    "            break\n",
    "        else:\n",
    "            print(\"Number must be between 2 and 5.\")\n",
    "    except ValueError:\n",
    "        print(\"Please enter a valid whole number.\")\n",
    "\n",
    "for num in numbers:\n",
    "    result = num / divisor\n",
    "    print(f\"{num} / {divisor} = {result:.2f}\")"
   ]
  },
  {
   "cell_type": "markdown",
   "id": "e7ad8d88",
   "metadata": {},
   "source": [
    "### 2D List Value Access (Level 3)\n",
    "Create a 2D list and ask the user to select a row and a column and display that value."
   ]
  },
  {
   "cell_type": "code",
   "execution_count": null,
   "id": "f20957a9",
   "metadata": {},
   "outputs": [],
   "source": [
    "# 2D List Value Access\n",
    "matrix = [[1, 2, 3], [4, 5, 6], [7, 8, 9]]\n",
    "\n",
    "try:\n",
    "    row = int(input(\"Enter row index (0-2): \"))\n",
    "    col = int(input(\"Enter column index (0-2): \"))\n",
    "    if 0 <= row < len(matrix) and 0 <= col < len(matrix[0]):\n",
    "        print(f\"Value at row {row}, column {col}: {matrix[row][col]}\")\n",
    "    else:\n",
    "        print(\"Invalid row or column index.\")\n",
    "except ValueError:\n",
    "    print(\"Please enter valid integers for row and column.\")"
   ]
  },
  {
   "cell_type": "markdown",
   "id": "410820bd",
   "metadata": {},
   "source": [
    "### Row Modification (Level 3)\n",
    "Ask the user which row they would like displayed and display just that row. Ask them to enter a new value and add it to the end of the row and display row again."
   ]
  },
  {
   "cell_type": "code",
   "execution_count": null,
   "id": "4a3b94b3",
   "metadata": {},
   "outputs": [],
   "source": [
    "# Row Modification\n",
    "try:\n",
    "    row = int(input(\"Enter the row index (0-2): \"))\n",
    "    if 0 <= row < len(matrix):\n",
    "        print(\"Selected row:\", matrix[row])\n",
    "        new_value = int(input(\"Enter a new value to add to the end of the row: \"))\n",
    "        matrix[row].append(new_value)\n",
    "        print(\"Updated row:\", matrix[row])\n",
    "    else:\n",
    "        print(\"Invalid row index.\")\n",
    "except ValueError:\n",
    "    print(\"Please enter valid integers.\")"
   ]
  },
  {
   "cell_type": "markdown",
   "id": "eeca60c8",
   "metadata": {},
   "source": [
    "### 2D List Element Change (Level 3)\n",
    "Ask the user which row they want displayed. Display that row. Ask the user which column in that row they want displayed and display the value. Ask the user if they want to change the value and change the data. Finally, display the whole row again."
   ]
  },
  {
   "cell_type": "code",
   "execution_count": null,
   "id": "f6b0853d",
   "metadata": {},
   "outputs": [],
   "source": [
    "# 2D List Element Change\n",
    "# 2D List Element Change\n",
    "try:\n",
    "    row = int(input(\"Enter the row index (0-2): \"))\n",
    "    if 0 <= row < len(matrix):\n",
    "        print(\"Selected row:\", matrix[row])\n",
    "        col = int(input(\"Enter the column index (0-2): \"))\n",
    "        if 0 <= col < len(matrix[row]):\n",
    "            print(f\"Value at row {row}, column {col}: {matrix[row][col]}\")\n",
    "            change = (\n",
    "                input(\"Do you want to change this value? (yes/no): \").strip().lower()\n",
    "            )\n",
    "            if change == \"yes\":\n",
    "                new_value = int(input(\"Enter the new value: \"))\n",
    "                matrix[row][col] = new_value\n",
    "            print(\"Updated row:\", matrix[row])\n",
    "        else:\n",
    "            print(\"Invalid column index.\")\n",
    "    else:\n",
    "        print(\"Invalid row index.\")\n",
    "except ValueError:\n",
    "    print(\"Please enter valid integers.\")"
   ]
  },
  {
   "cell_type": "markdown",
   "id": "8cd92acf",
   "metadata": {},
   "source": [
    "### People Information List (Level 3)\n",
    "Ask the user to enter the name, age and shoe size for four people in a list and display the names and ages of all the people in the list but do not show their shoe size."
   ]
  },
  {
   "cell_type": "code",
   "execution_count": null,
   "id": "39600843",
   "metadata": {},
   "outputs": [],
   "source": [
    "# People Information List\n",
    "people = []\n",
    "for i in range(4):\n",
    "    name = input(f\"Enter name for person {i+1}: \").strip()\n",
    "    age = int(input(f\"Enter age for person {i+1}: \"))\n",
    "    shoe_size = float(input(f\"Enter shoe size for person {i+1}: \"))\n",
    "    people.append([name, age, shoe_size])\n",
    "\n",
    "print(\"Names and ages:\")\n",
    "for person in people:\n",
    "    print(f\"Name: {person[0]}, Age: {person[1]}\")"
   ]
  },
  {
   "cell_type": "markdown",
   "id": "b2ef93d2",
   "metadata": {},
   "source": [
    "### Remove Person from List (Level 3)\n",
    "After gathering the four names, ages and shoe sizes, ask the user to enter the name of the person they want to remove from the list. Delete this row from the data and display the other rows on separate lines."
   ]
  },
  {
   "cell_type": "code",
   "execution_count": null,
   "id": "01ea7e7a",
   "metadata": {},
   "outputs": [],
   "source": [
    "# Remove Person from List\n",
    "name_to_remove = input(\"Enter the name of the person to remove: \").strip()\n",
    "for person in people[:]:  # Use a copy to avoid modification issues during iteration\n",
    "    if person[0] == name_to_remove:\n",
    "        people.remove(person)\n",
    "        print(f\"Removed {name_to_remove}.\")\n",
    "        break\n",
    "else:\n",
    "    print(\"Name not found.\")\n",
    "\n",
    "print(\"Remaining people:\")\n",
    "for person in people:\n",
    "    print(f\"Name: {person[0]}, Age: {person[1]}\")"
   ]
  }
 ],
 "metadata": {
  "kernelspec": {
   "display_name": "lab",
   "language": "python",
   "name": "python3"
  },
  "language_info": {
   "codemirror_mode": {
    "name": "ipython",
    "version": 3
   },
   "file_extension": ".py",
   "mimetype": "text/x-python",
   "name": "python",
   "nbconvert_exporter": "python",
   "pygments_lexer": "ipython3",
   "version": "3.10.18"
  }
 },
 "nbformat": 4,
 "nbformat_minor": 5
}
