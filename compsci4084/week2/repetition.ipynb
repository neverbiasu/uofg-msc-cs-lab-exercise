{
 "cells": [
  {
   "cell_type": "markdown",
   "id": "0e65b69a",
   "metadata": {},
   "source": [
    "# Lab Exercises - 2\n",
    "## Python Repetition\n",
    "\n",
    "### Learning Objectives\n",
    "By the end of this lab session, you will be able to:\n",
    "\n",
    "| Learning Objective | Skills Developed |\n",
    "|-------------------|------------------|\n",
    "| **Control Structures** | Implement for loops, while loops, and conditional statements |\n",
    "| **Functions** | Define and call functions with parameters |\n",
    "| **Data Structures** | Work with lists, dictionaries, tuples, and 2D arrays |\n",
    "| **User Interaction** | Handle user input and provide appropriate feedback |\n",
    "| **Random Operations** | Generate random numbers and selections |\n",
    "| **Error Handling** | Implement basic input validation |\n",
    "\n",
    "---\n",
    "\n",
    "### Exercise Categories Overview\n",
    "\n",
    "| Category | Exercises | Difficulty Level | Estimated Time |\n",
    "|----------|-----------|-----------------|----------------|\n",
    "| **For Loops** | 1-3 | Level 1 | 45 minutes |\n",
    "| **While Loops** | 4-6 | Level 1-2 | 60 minutes |\n",
    "| **Functions** | 7-8 | Level 2 | 45 minutes |\n",
    "| **Random Operations** | 9-12 | Level 1-2 | 60 minutes |\n",
    "| **Turtle Graphics** | 13-15 | Level 2 | 45 minutes |\n",
    "| **Lists** | 16-17 | Level 1-2 | 30 minutes |\n",
    "| **Dictionaries** | 18 | Level 2 | 20 minutes |\n",
    "| **Tuples** | 19 | Level 1 | 15 minutes |\n",
    "| **Numeric Arrays** | 20-25 | Level 2-3 | 90 minutes |\n",
    "| **2D Data Structures** | 26-30 | Level 3 | 75 minutes |\n",
    "\n",
    "**Total Estimated Time: 7-8 hours**"
   ]
  },
  {
   "cell_type": "markdown",
   "id": "a36d1b50",
   "metadata": {},
   "source": [
    "---\n",
    "\n",
    "## For Loops Exercises\n",
    "\n",
    "### Exercise 1: Name Repetition (Level 1)\n",
    "**Estimated time: 10 minutes**\n",
    "\n",
    "Write a programme that asks the user to enter their name and a number. If the number is less than 10, then display their name that number of times; otherwise, display the message \"Too high\" three times.\n",
    "\n",
    "#### Requirements:\n",
    "1. Get user's name and a number as input\n",
    "2. Check if the number is less than 10\n",
    "3. If yes, display the name that many times\n",
    "4. If no, display \"Too high\" three times\n",
    "\n",
    "#### Task Specifications:\n",
    "\n",
    "| Component | Description | Expected Output |\n",
    "|-----------|-------------|----------------|\n",
    "| Input 1 | User's name | string |\n",
    "| Input 2 | Number | integer |\n",
    "| Condition | number < 10 | boolean check |\n",
    "| Output A | Name repeated | string (multiple times) |\n",
    "| Output B | Error message | \"Too high\" (3 times) |"
   ]
  },
  {
   "cell_type": "code",
   "execution_count": null,
   "id": "1e78e916",
   "metadata": {},
   "outputs": [],
   "source": [
    "# Exercise 1: Name Repetition\n",
    "# TODO: Write your code here"
   ]
  },
  {
   "cell_type": "markdown",
   "id": "c9092ded",
   "metadata": {},
   "source": [
    "### Exercise 2: Selective Total (Level 1)\n",
    "**Estimated time: 15 minutes**\n",
    "\n",
    "Set a variable called `total` to 0. Your programme should ask the user to enter five numbers and after each input, ask them if they want that number to be included. If they do, the programme should then add the number to the total. If they do not want it included, the programme shouldn't add the number to the total. After the user has entered all five numbers, display the total.\n",
    "\n",
    "#### Requirements:\n",
    "1. Initialize `total` variable to 0\n",
    "2. Use a for loop to iterate 5 times\n",
    "3. Ask user to enter a number\n",
    "4. Ask if they want to include it (y/n)\n",
    "5. Add to total only if they confirm\n",
    "6. Display final total\n",
    "\n",
    "#### Task Specifications:\n",
    "\n",
    "| Component | Description | Expected Data Type |\n",
    "|-----------|-------------|-------------------|\n",
    "| Variable | total = 0 | integer |\n",
    "| Loop | for i in range(5) | iteration |\n",
    "| Input 1 | Number from user | float or int |\n",
    "| Input 2 | Include decision (y/n) | string |\n",
    "| Output | Final total | number |"
   ]
  },
  {
   "cell_type": "code",
   "execution_count": null,
   "id": "44a51e1d",
   "metadata": {},
   "outputs": [],
   "source": [
    "# Exercise 2: Selective Total\n",
    "# TODO: Write your code here"
   ]
  },
  {
   "cell_type": "markdown",
   "id": "199643dc",
   "metadata": {},
   "source": [
    "### Exercise 3: Direction Counter (Level 1)\n",
    "**Estimated time: 20 minutes**\n",
    "\n",
    "Write a programme that asks which direction the user wants to count (up or down).\n",
    "- If they select **up**, then the programme should ask them for the top number and count from 1 to that number.\n",
    "- If the user selects **down**, the programme should ask them to enter a number below 20 and then count down from 20 to that number.\n",
    "- If the user entered something other than *up* or *down*, display the message \"I don't understand\".\n",
    "\n",
    "#### Requirements:\n",
    "1. Ask user for direction (up/down)\n",
    "2. Handle \"up\" case: ask for top number, count 1 to that number\n",
    "3. Handle \"down\" case: ask for bottom number (<20), count 20 down to that number\n",
    "4. Handle invalid input with error message\n",
    "\n",
    "#### Task Specifications:\n",
    "\n",
    "| Component | Description | Expected Behavior |\n",
    "|-----------|-------------|------------------|\n",
    "| Input | Direction choice | \"up\", \"down\", or other |\n",
    "| Up case | Count from 1 to user number | 1, 2, 3, ..., n |\n",
    "| Down case | Count from 20 to user number | 20, 19, 18, ..., n |\n",
    "| Error | Invalid direction | \"I don't understand\" |"
   ]
  },
  {
   "cell_type": "code",
   "execution_count": null,
   "id": "9cb5abf8",
   "metadata": {},
   "outputs": [],
   "source": [
    "# Exercise 3: Direction Counter\n",
    "# TODO: Write your code here"
   ]
  },
  {
   "cell_type": "markdown",
   "id": "3b945f06",
   "metadata": {},
   "source": [
    "---\n",
    "\n",
    "## While Loop Exercises\n",
    "\n",
    "### Exercise 4: Continuous Addition (Level 1)\n",
    "**Estimated time: 15 minutes**\n",
    "\n",
    "Write a programme that asks the user to enter a number and then enter another number. The programme should add these two numbers together and then ask if they want to add another number. If the user enters \"y\", the programme will ask them to enter another number and will keep adding numbers until the user stops answering \"y\". Once the loop has stopped, display the total.\n",
    "\n",
    "#### Requirements:\n",
    "1. Ask user to enter first two numbers\n",
    "2. Add them together\n",
    "3. Ask if they want to add another number\n",
    "4. Continue adding while user enters \"y\"\n",
    "5. Display final total when done\n",
    "\n",
    "#### Task Specifications:\n",
    "\n",
    "| Component | Description | Expected Data Type |\n",
    "|-----------|-------------|-------------------|\n",
    "| Initial inputs | Two numbers | float or int |\n",
    "| Loop condition | User enters \"y\" | string comparison |\n",
    "| Additional input | More numbers | float or int |\n",
    "| Output | Final sum | number |"
   ]
  },
  {
   "cell_type": "code",
   "execution_count": null,
   "id": "f3252985",
   "metadata": {},
   "outputs": [],
   "source": [
    "# Exercise 4: Continuous Addition\n",
    "# TODO: Write your code here"
   ]
  },
  {
   "cell_type": "markdown",
   "id": "a6ceda97",
   "metadata": {},
   "source": [
    "### Exercise 5: Number Guessing Game (Level 2)\n",
    "**Estimated time: 20 minutes**\n",
    "\n",
    "Create a variable called `compnum` and set the value to 50. Ask the user to enter a number. While their guess is not the same as the `compnum` value, tell them if their guess is too high or too low and ask them to have another guess. If they enter the same value as `compnum`, display the message \"Well done, you took [count] attempts\".\n",
    "\n",
    "#### Requirements:\n",
    "1. Set compnum = 50\n",
    "2. Ask user for initial guess\n",
    "3. Loop while guess != compnum\n",
    "4. Provide \"too high\" or \"too low\" feedback\n",
    "5. Count attempts and display when correct\n",
    "\n",
    "#### Task Specifications:\n",
    "\n",
    "| Component | Description | Expected Data Type |\n",
    "|-----------|-------------|-------------------|\n",
    "| Variable | compnum = 50 | integer |\n",
    "| Input | User's guess | integer |\n",
    "| Loop condition | guess != compnum | boolean |\n",
    "| Feedback | \"too high\" or \"too low\" | string |\n",
    "| Counter | Attempt count | integer |\n",
    "| Success message | \"Well done, you took X attempts\" | string |"
   ]
  },
  {
   "cell_type": "code",
   "execution_count": null,
   "id": "9954d458",
   "metadata": {},
   "outputs": [],
   "source": [
    "# Exercise 5: Number Guessing Game\n",
    "# TODO: Write your code here"
   ]
  },
  {
   "cell_type": "markdown",
   "id": "6355f5ce",
   "metadata": {},
   "source": [
    "### Exercise 6: Green Bottles Song (Level 2)\n",
    "**Estimated time: 25 minutes**\n",
    "\n",
    "Using the song \"10 green bottles\", display the lines:\n",
    "> \"There are [num] green bottles hanging on the wall,\n",
    "> [num] green bottles hanging on the wall,\n",
    "> and if 1 green bottle should accidentally fall.\"\n",
    "\n",
    "Then ask the question: \"How many green bottles will be hanging on the wall?\"\n",
    "- If the user answers correctly, display the message: \"There will be [num] green bottles hanging on the wall\".\n",
    "- If they answer incorrectly, display the message \"No, try again\" until they get it right.\n",
    "- When the number of green bottles gets down to 0, display the message: \"There are no more green bottles hanging on the wall\".\n",
    "\n",
    "#### Requirements:\n",
    "1. Start with 10 bottles\n",
    "2. Display the song verse\n",
    "3. Ask user how many bottles will remain\n",
    "4. Validate answer and give feedback\n",
    "5. Continue until 0 bottles remain\n",
    "\n",
    "#### Task Specifications:\n",
    "\n",
    "| Component | Description | Expected Data Type |\n",
    "|-----------|-------------|-------------------|\n",
    "| Initial bottles | 10 | integer |\n",
    "| Song display | Formatted verse | string |\n",
    "| User answer | Number of remaining bottles | integer |\n",
    "| Validation | Check correct answer | boolean |\n",
    "| End condition | bottles == 0 | boolean |"
   ]
  },
  {
   "cell_type": "code",
   "execution_count": null,
   "id": "98b09e06",
   "metadata": {},
   "outputs": [],
   "source": [
    "# Exercise 6: Green Bottles Song\n",
    "# TODO: Write your code here"
   ]
  },
  {
   "cell_type": "markdown",
   "id": "b0aa54ca",
   "metadata": {},
   "source": [
    "---\n",
    "\n",
    "## Function Exercises\n",
    "\n",
    "### Exercise 7: Number Input and Counter Functions (Level 2)\n",
    "**Estimated time: 20 minutes**\n",
    "\n",
    "Define a function that will ask the user to enter a number and save it as the variable `num`.\n",
    "Define another function that will use `num` and count from 1 to that number.\n",
    "\n",
    "#### Requirements:\n",
    "1. Create function `get_number()` - asks user for input, returns number\n",
    "2. Create function `count_to_number(num)` - counts from 1 to num\n",
    "3. Call both functions in sequence\n",
    "\n",
    "#### Task Specifications:\n",
    "\n",
    "| Component | Description | Expected Data Type |\n",
    "|-----------|-------------|-------------------|\n",
    "| Function 1 | get_number() | returns integer |\n",
    "| Function 2 | count_to_number(num) | void, prints numbers |\n",
    "| Global variable | num | integer |\n",
    "| Function calls | Sequential execution | program flow |"
   ]
  },
  {
   "cell_type": "code",
   "execution_count": null,
   "id": "8bf7fdf2",
   "metadata": {},
   "outputs": [],
   "source": [
    "# Exercise 7: Number Input and Counter Functions\n",
    "# TODO: Write your code here"
   ]
  }
 ],
 "metadata": {
  "kernelspec": {
   "display_name": "lab",
   "language": "python",
   "name": "python3"
  },
  "language_info": {
   "name": "python",
   "version": "3.10.18"
  }
 },
 "nbformat": 4,
 "nbformat_minor": 5
}
