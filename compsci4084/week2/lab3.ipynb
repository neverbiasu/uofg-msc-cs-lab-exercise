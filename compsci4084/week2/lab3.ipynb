{
 "cells": [
  {
   "cell_type": "markdown",
   "id": "2bd6db93",
   "metadata": {},
   "source": [
    "# Lab Exercises - File Operations and Databases\n",
    "\n",
    "**Topic:** File I/O, CSV Files, Error Handling, and SQLite Databases  \n",
    "**Total Exercises:** 8  \n",
    "**Estimated Time:** 5-6 hours\n",
    "\n",
    "---"
   ]
  },
  {
   "cell_type": "markdown",
   "id": "3f875d7b",
   "metadata": {},
   "source": [
    "# Table of Contents\n",
    "\n",
    "1. [School Subject Menu System](#school-subject-menu-system-level-2)\n",
    "2. [Maths Quiz with CSV Storage](#maths-quiz-with-csv-storage-level-2)\n",
    "3. [Salary Management System](#salary-management-system-level-2)\n",
    "4. [Salary Record Deletion](#salary-record-deletion-level-3)\n",
    "5. [Number Sum with Error Handling](#number-sum-with-error-handling-level-2)\n",
    "6. [PhoneBook Database Creation](#phonebook-database-creation-level-1)\n",
    "7. [PhoneBook Management System](#phonebook-management-system-level-3)\n",
    "\n",
    "---"
   ]
  },
  {
   "cell_type": "markdown",
   "id": "0841411c",
   "metadata": {},
   "source": [
    "## Learning Objectives\n",
    "\n",
    "| Objective | Skills Developed |\n",
    "|-----------|------------------|\n",
    "| File Operations | Create, read, write, and append to text files |\n",
    "| CSV Handling | Work with CSV files for structured data storage |\n",
    "| Menu Systems | Build interactive menu-driven applications |\n",
    "| Error Handling | Implement validation and error messages |\n",
    "| Database Operations | Create and manipulate SQLite databases |\n",
    "| CRUD Operations | Implement Create, Read, Update, Delete functionality |\n",
    "\n",
    "---"
   ]
  },
  {
   "cell_type": "markdown",
   "id": "3c6e4b01",
   "metadata": {},
   "source": [
    "## File Operations\n",
    "\n",
    "### School Subject Menu System (Level 2)\n",
    "Display the following menu to the user:\n",
    "\n",
    "Create a new file\n",
    "\n",
    "Display the file\n",
    "\n",
    "Add a new item to the file\n",
    "\n",
    "Make a selection to 1, 2 or 3\n",
    "\n",
    "Ask the user to enter 1, 2 or 3. If they select anything other than 1, 2 and 3, it should display a suitable error message. If they select 1, ask the user to enter a school subject and save it to a new file called \"Subjects.txt\". It should overwrite any existing file with a new file. If they select 2, display the contents of \"Subjects.txt\" file. If they select 3, ask the user to enter a new subject and save it to the file and then display the entire content of the file. Run the programme several times to test the options."
   ]
  },
  {
   "cell_type": "code",
   "execution_count": null,
   "id": "a401aec0",
   "metadata": {},
   "outputs": [
    {
     "name": "stdout",
     "output_type": "stream",
     "text": [
      "\n"
     ]
    }
   ],
   "source": [
    "# School Subject Menu System\n",
    "def get_a_selection():\n",
    "    selection = int(input(\"Please enter a number in 1, 2 or 3: \"))\n",
    "    if selection != 1 and selection != 2 and selection != 3:\n",
    "        print(\"ValueError: This is not a number in 1, 2 or 3!\")\n",
    "    elif selection == 1 or selection == 2 or selection == 3:\n",
    "        if selection == 1:\n",
    "            school_subject = input(\"Please enter a school subject: \")\n",
    "            with open(\"Subject.txt\", \"w\") as subject_file:\n",
    "                subject_file.write(school_subject)\n",
    "        elif selection == 2:\n",
    "            with open(\"Subject.txt\", \"w\") as subject_file:\n",
    "                lines = subject_file.readlines()\n",
    "                for line in lines:\n",
    "                    print(line, end=\"\")\n",
    "        elif selection == 3:\n",
    "            new_subject = input(\"Please enter a new subject: \")\n",
    "            with open(\"Subject.txt\", \"a\") as subject_file:\n",
    "                subject_file.write(\"\\n\" + new_subject)\n",
    "            with open(\"Subject.txt\", \"r\") as subject_file:\n",
    "                lines = subject_file.readline()\n",
    "                for line in lines:\n",
    "                    print(line, end=\"\")\n",
    "\n",
    "get_a_selection()"
   ]
  },
  {
   "cell_type": "markdown",
   "id": "b4d756b5",
   "metadata": {},
   "source": [
    "---"
   ]
  },
  {
   "cell_type": "markdown",
   "id": "8bcf8d23",
   "metadata": {},
   "source": [
    "## CSV File Operations\n",
    "\n",
    "### Maths Quiz with CSV Storage (Level 2)\n",
    "Create a simple maths quiz that will ask the user for their name and then generate two random questions. Store their name, the questions that were asked, their answers and their final score in a .csv file. Whenever the programme is run it should add to the csv file, and not overwrite anything."
   ]
  },
  {
   "cell_type": "code",
   "execution_count": 10,
   "id": "338b0e22",
   "metadata": {},
   "outputs": [],
   "source": [
    "import random\n",
    "\n",
    "# Maths Quiz with CSV Storage\n",
    "def maths_quiz():\n",
    "    name = input(\"Please enter your name: \")\n",
    "    questions = [\"1+1=?\", \"6*6=?\", \"2^8=?\", \"1/2=?\"]\n",
    "    answers = [2, 36, 256, 0.5]\n",
    "    random_index_0 = random.randint(0, 3)\n",
    "    random_index_1 = random.randint(0, 3)\n",
    "    question_0 = questions[random_index_0]\n",
    "    question_1 = questions[random_index_1]\n",
    "    with open(\"MathQuiz.csv\", \"w\") as math_quiz_file:\n",
    "        answer_0 = int(input(question_0))\n",
    "        answer_1 = int(input(question_1))\n",
    "        score_0 = 50 if answer_0 == answers[random_index_0] else 0\n",
    "        score_1 = 50 if answer_1 == answers[random_index_1] else 0\n",
    "        final_score = score_0 + score_1\n",
    "        new_record = name + \",\" + question_0 + \",\" + question_1 + \",\" + str(answer_0) + \",\" + str(answer_1) + \",\" + str(final_score)\n",
    "        math_quiz_file.write(new_record)\n",
    "\n",
    "maths_quiz()"
   ]
  },
  {
   "cell_type": "markdown",
   "id": "c48c1cb1",
   "metadata": {},
   "source": [
    "---"
   ]
  },
  {
   "cell_type": "markdown",
   "id": "d406d4db",
   "metadata": {},
   "source": [
    "### Salary Management System (Level 2)\n",
    "**(Function and .csv files)** Create the following menu:\n",
    "\n",
    "Add to file\n",
    "\n",
    "View all records\n",
    "\n",
    "Quit programme\n",
    "\n",
    "Enter the number of your selection:\n",
    "\n",
    "If the user selects 1, allow them to add to a file called Salaries.csv which will store their name and salary. If they select 2 it should display all records in the Salaries.csv file. If they select 3 it should stop the programme. If they select an incorrect option, they should see an error message. They should keep returning to the menu until they select option 3."
   ]
  },
  {
   "cell_type": "code",
   "execution_count": 13,
   "id": "2f3ad309",
   "metadata": {},
   "outputs": [
    {
     "name": "stdout",
     "output_type": "stream",
     "text": [
      "Menu：\n",
      "1. Add to file\n",
      "2. View all records\n",
      "3. Quit programme\n"
     ]
    }
   ],
   "source": [
    "# Salary Management System\n",
    "def menu():\n",
    "    print(\"Menu：\\n1. Add to file\\n2. View all records\\n3. Quit programme\")\n",
    "    try:\n",
    "        selection = int(input(\"Please enter a number in 1, 2 or 3\"))\n",
    "    except ValueError:\n",
    "        print(\"Input Error: Please enter the number\")\n",
    "        return\n",
    "    \n",
    "    if selection == 1:\n",
    "        name = input(\"Please enter your name: \")\n",
    "        salary = input(\"Please enter your salary: \")\n",
    "        new_record = name + \",\" + salary\n",
    "        with open(\"Salaries.csv\", \"a\") as salaries_file:\n",
    "            salaries_file.write(new_record)\n",
    "\n",
    "    elif selection == 2:\n",
    "        with open(\"Salaries.csv\", \"r\") as salaries_file:\n",
    "            lines = salaries_file.readlines()\n",
    "            for line in lines:\n",
    "                print(line, end=\"\")\n",
    "    \n",
    "    elif selection == 3:\n",
    "        print(\"Quit the programme\")\n",
    "        return\n",
    "\n",
    "menu()\n"
   ]
  },
  {
   "cell_type": "markdown",
   "id": "4d01edba",
   "metadata": {},
   "source": [
    "---"
   ]
  },
  {
   "cell_type": "markdown",
   "id": "00cef459",
   "metadata": {},
   "source": [
    "### Salary Record Deletion (Level 3)\n",
    "**(function and csv)** In Python, it is not technically possible to directly delete a record from a .csv file. Instead, you need to save the file to a temporary list in Python, make the changes to the list and then overwrite the original file with the temporary list.\n",
    "\n",
    "Change the previous programme to allow you to do this. Your menu should now look like this:\n",
    "\n",
    "Add to file\n",
    "\n",
    "View all records\n",
    "\n",
    "Delete a record\n",
    "\n",
    "Quit programme"
   ]
  },
  {
   "cell_type": "code",
   "execution_count": null,
   "id": "5b7ed324",
   "metadata": {},
   "outputs": [],
   "source": [
    "# Salary Record Deletion\n",
    "# TODO: Write your code here"
   ]
  },
  {
   "cell_type": "markdown",
   "id": "633107c6",
   "metadata": {},
   "source": [
    "---"
   ]
  },
  {
   "cell_type": "markdown",
   "id": "4cd0002b",
   "metadata": {},
   "source": [
    "## Error Handling\n",
    "\n",
    "### Number Sum with Error Handling (Level 2)\n",
    "**Sum a Collection of Numbers** - Create a program that sums all of the numbers entered by the user while ignoring any input that is not a valid number. Your program should display the current sum after each number is entered. It should display an appropriate message after each non-numeric input, and then continue to sum any additional numbers entered by the user. Exit the program when the user enters a blank line. Ensures that your program works correctly for both integer and floating-point numbers."
   ]
  },
  {
   "cell_type": "code",
   "execution_count": null,
   "id": "9f1db290",
   "metadata": {},
   "outputs": [],
   "source": [
    "# Number Sum with Error Handling\n",
    "# TODO: Write your code here"
   ]
  },
  {
   "cell_type": "markdown",
   "id": "e34eb8f2",
   "metadata": {},
   "source": [
    "---"
   ]
  },
  {
   "cell_type": "markdown",
   "id": "b0826d66",
   "metadata": {},
   "source": [
    "## SQLite3 Database Operations\n",
    "\n",
    "### PhoneBook Database Creation (Level 1)\n",
    "Create an SQL database called PhoneBook1 that contains a table called Names with the following data:\n",
    "\n",
    "| ID | First Name | Surname | Phone Number |\n",
    "|---|---|---|---|\n",
    "| 1 | Simon | Pierre | 0142678 9056 |\n",
    "| 2 | Katarina | Iglesias | 0203456 7078 |\n",
    "| 3 | Derrick | Brown | 0122345 8765 |\n",
    "| 4 | John | Smith | 0112653 2312 |\n",
    "| 5 | Mark | Isaac | 01416571383 |"
   ]
  },
  {
   "cell_type": "code",
   "execution_count": null,
   "id": "8516d01c",
   "metadata": {},
   "outputs": [],
   "source": [
    "# PhoneBook Database Creation\n",
    "# TODO: Write your code here"
   ]
  },
  {
   "cell_type": "markdown",
   "id": "c36f858c",
   "metadata": {},
   "source": [
    "---"
   ]
  },
  {
   "cell_type": "markdown",
   "id": "6c24382a",
   "metadata": {},
   "source": [
    "### PhoneBook Management System (Level 3)\n",
    "Using the phonebook database, write a programme that will display the following menu:\n",
    "\n",
    "Main menu\n",
    "\n",
    "View phone book\n",
    "\n",
    "Add to phone book\n",
    "\n",
    "Search for surname\n",
    "\n",
    "Delete person from phone book\n",
    "\n",
    "Quit\n",
    "\n",
    "Enter your selection\n",
    "\n",
    "If the user selects 1, they should be able to view the entire phonebook. If they select 2, it should allow them to add a new person to the phonebook. If they select 3, it should ask them for a surname and then display only the record of people with the same surname. If they select 4, it should ask for an ID and then delete that record from the table. If they select 5, it should end the programme. Finally, the programme should display a suitable message if they enter an incorrect selection from the menu. They should return to the menu after each action until they select 5."
   ]
  },
  {
   "cell_type": "code",
   "execution_count": null,
   "id": "882263c8",
   "metadata": {},
   "outputs": [],
   "source": [
    "# PhoneBook Management System\n",
    "# TODO: Write your code here"
   ]
  },
  {
   "cell_type": "markdown",
   "id": "a78fd97e",
   "metadata": {},
   "source": [
    "---\n",
    "\n",
    "## Reflection and Next Steps\n",
    "\n",
    "After completing these exercises, you should be comfortable with:\n",
    "- Reading from and writing to text and CSV files\n",
    "- Building menu-driven applications with proper error handling\n",
    "- Working with SQLite databases for data persistence\n",
    "- Implementing full CRUD (Create, Read, Update, Delete) operations\n",
    "- Validating user input and providing appropriate feedback\n",
    "\n",
    "**Challenge Yourself:**\n",
    "- Add more advanced search functionality to the PhoneBook system\n",
    "- Implement data backup and restore features\n",
    "- Add input validation to prevent duplicate entries\n",
    "- Create export functionality to save data in different formats"
   ]
  }
 ],
 "metadata": {
  "kernelspec": {
   "display_name": "lab",
   "language": "python",
   "name": "python3"
  },
  "language_info": {
   "codemirror_mode": {
    "name": "ipython",
    "version": 3
   },
   "file_extension": ".py",
   "mimetype": "text/x-python",
   "name": "python",
   "nbconvert_exporter": "python",
   "pygments_lexer": "ipython3",
   "version": "3.10.18"
  }
 },
 "nbformat": 4,
 "nbformat_minor": 5
}
