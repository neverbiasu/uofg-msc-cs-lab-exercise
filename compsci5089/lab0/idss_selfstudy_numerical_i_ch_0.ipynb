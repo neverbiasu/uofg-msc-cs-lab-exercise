{
 "cells": [
  {
   "cell_type": "markdown",
   "metadata": {},
   "source": [
    "----\n",
    "# Introduction to Data Science and Systems \n",
    "\n",
    "## Self-study: Arrays, `numpy` and vectorisation \n",
    "\n",
    "\n",
    "##### University of Glasgow - material prepared by John H. Williamson* (adapted to IDSS by BSJ).\n",
    " \n",
    " \n",
    "$$\\newcommand{\\vec}[1]{{\\bf #1}} \n",
    "\\newcommand{\\real}{\\mathbb{R}}\n",
    "\\newcommand{\\expect}[1]{\\mathbb{E}[#1]}\n",
    "\\DeclareMathOperator*{\\argmin}{arg\\,min}\n",
    "%\\vec{x}\n",
    "%\\real\n",
    "$$\n",
    "\n",
    "----"
   ]
  },
  {
   "cell_type": "markdown",
   "metadata": {},
   "source": [
    "# Content:\n",
    "\n",
    "\n",
    "\n",
    "## [1: Why use arrays](idss_selfstudy_numerical_i_ch_1.ipynb)\n",
    "* what vectorized computation is\n",
    "* what numerical arrays are and what they are useful for\n",
    "* the general categories of array operations\n",
    "* how images and sounds map onto arrays\n",
    "\n",
    "## [2: Typing and shapes of arrays](idss_selfstudy_numerical_i_ch_2.ipynb)\n",
    "* the naming of different types of arrays (vector, matrix, tensor)\n",
    "* what shape and dtype are\n",
    "* what axes of an array are and how they are named (row, column, etc.)\n",
    "\n",
    "## [3: Creating, indexing, slicing, joining and rotating](idss_selfstudy_numerical_i_ch_3.ipynb)\n",
    "* creating new arrays\n",
    "* slicing and indexing operations and their syntax\n",
    "* how to rotate, flip and transpose arrays\n",
    "* how to split and join arrays and the rules governing this\n",
    "* boolean arrays and fancy indexing\n",
    "* swapping, adding dimensions, reshaping and adding dimensions\n",
    "\n",
    "## [4: Arithmetic, broadcasting and aggregation](idss_selfstudy_numerical_i_ch_4.ipynb)\n",
    "* scalar and elementwise arithmetic on arrays\n",
    "* broadcasting rules\n",
    "* basic aggregation operations like summation, mean, cumulative sum\n",
    "* sorting and selection like argmax, argsort, find\n",
    "\n",
    "## [5: Nummerical aspects](idss_selfstudy_numerical_i_ch_5.ipynb)\n",
    "* how IEEE 754 `float32` and `float64` numbers are represented\n",
    "* how infinity and NaN are represented, how they occur and how they are used\n",
    "* what roundoff error is and how it tends to be caused\n",
    "* how to compare floating point numbers\n",
    "* what machine epsilon is and how it is defined\n",
    "\n",
    "\n",
    "## [6: Vectorisation](idss_selfstudy_numerical_i_ch_6.ipynb)\n",
    "* how to vectorise basic algorithms like summations and elementwise operations\n",
    "* how to mask elements in vectorised operations\n",
    "* how to write simple equations as vectorised operations\n",
    "\n",
    "\n",
    "## [Appendix: Numpy Reference](idss_selfstudy_numerical_i_ch_numpyreference.ipynb)\n",
    "- a list of highly releveant `numpy` functions/features\n"
   ]
  },
  {
   "cell_type": "markdown",
   "metadata": {},
   "source": [
    "---"
   ]
  },
  {
   "cell_type": "markdown",
   "metadata": {},
   "source": [
    "## Extra resources for this self-study:\n",
    "* [From Python to Numpy](http://www.labri.fr/perso/nrougier/from-python-to-numpy/) \n",
    "* [100 numpy exercises](http://www.labri.fr/perso/nrougier/teaching/numpy.100/index.html)\n",
    "* [NumPy tutorial](http://scipy.github.io/old-wiki/pages/Tentative_NumPy_Tutorial)\n",
    "* [Introduction to NumPy](https://jakevdp.github.io/PythonDataScienceHandbook/02.00-introduction-to-numpy.html)\n",
    "* [Linear algebra cheat sheet](https://medium.com/towards-data-science/linear-algebra-cheat-sheet-for-deep-learning-cd67aba4526c#.739w4i3m1)   *not actually linear algebra!*"
   ]
  }
 ],
 "metadata": {
  "kernelspec": {
   "display_name": "Python 3",
   "language": "python",
   "name": "python3"
  },
  "language_info": {
   "codemirror_mode": {
    "name": "ipython",
    "version": 3
   },
   "file_extension": ".py",
   "mimetype": "text/x-python",
   "name": "python",
   "nbconvert_exporter": "python",
   "pygments_lexer": "ipython3",
   "version": "3.7.3"
  }
 },
 "nbformat": 4,
 "nbformat_minor": 1
}
