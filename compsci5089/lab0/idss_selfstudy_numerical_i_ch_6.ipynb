{
 "cells": [
  {
   "cell_type": "markdown",
   "metadata": {},
   "source": [
    " ----\n",
    "# Introduction to Data Science and Systems\n",
    "\n",
    "## Self-study: Arrays, numpy and vectorisaiton\n",
    "\n",
    "### Chapter 6: Vectorization\n",
    "\n",
    "##### University of Glasgow - material prepared by John H. Williamson* and adapted to IDSS by BSJ.\n",
    " \n",
    "\n",
    "$$\n",
    "\\newcommand{\\vec}[1]{{\\bf #1} } \n",
    "\\newcommand{\\examinable}{{\\quad\\quad\\LARGE[\\spadesuit]}}\n",
    "\\newcommand{\\real}{\\mathbb{R}}\n",
    "\\newcommand{\\expect}[1]{\\mathbb{E}[#1]}\n",
    "\\DeclareMathOperator*{\\argmin}{arg\\,min}\n",
    "%\\vec{x}\n",
    "%\\real\n",
    "%\\examinable\n",
    "$$\n",
    "\n",
    "----"
   ]
  },
  {
   "cell_type": "markdown",
   "metadata": {},
   "source": [
    "## Summary <a class=\"tocSkip\">\n",
    "By the end of this chapter you should know:\n",
    "* how to vectorise basic algorithms like summations and elementwise operations\n",
    "* how to mask elements in vectorised operations\n",
    "* how to write simple equations as vectorised operations"
   ]
  },
  {
   "cell_type": "code",
   "execution_count": 1,
   "metadata": {},
   "outputs": [
    {
     "data": {
      "text/html": [
       "\n",
       "<script>\n",
       "  function code_toggle() {\n",
       "    if (code_shown){\n",
       "      $('div.input').hide('500');\n",
       "      $('#toggleButton').val('Show Code')\n",
       "    } else {\n",
       "      $('div.input').show('500');\n",
       "      $('#toggleButton').val('Hide Code')\n",
       "    }\n",
       "    code_shown = !code_shown\n",
       "  }\n",
       "\n",
       "  $( document ).ready(function(){\n",
       "    code_shown=false;\n",
       "    $('div.input').hide()\n",
       "  });\n",
       "</script>\n",
       "<form action=\"javascript:code_toggle()\"><input type=\"submit\" id=\"toggleButton\" value=\"Show Code\"></form>"
      ],
      "text/plain": [
       "<IPython.core.display.HTML object>"
      ]
     },
     "execution_count": 1,
     "metadata": {},
     "output_type": "execute_result"
    }
   ],
   "source": [
    "import IPython.display\n",
    "IPython.display.HTML(\"\"\"\n",
    "<script>\n",
    "  function code_toggle() {\n",
    "    if (code_shown){\n",
    "      $('div.input').hide('500');\n",
    "      $('#toggleButton').val('Show Code')\n",
    "    } else {\n",
    "      $('div.input').show('500');\n",
    "      $('#toggleButton').val('Hide Code')\n",
    "    }\n",
    "    code_shown = !code_shown\n",
    "  }\n",
    "\n",
    "  $( document ).ready(function(){\n",
    "    code_shown=false;\n",
    "    $('div.input').hide()\n",
    "  });\n",
    "</script>\n",
    "<form action=\"javascript:code_toggle()\"><input type=\"submit\" id=\"toggleButton\" value=\"Show Code\"></form>\"\"\")"
   ]
  },
  {
   "cell_type": "code",
   "execution_count": 23,
   "metadata": {},
   "outputs": [],
   "source": [
    "import numpy as np\n",
    "import matplotlib as mpl\n",
    "import matplotlib.pyplot as plt\n",
    "\n",
    "from utils.matrices import show_boxed_tensor_latex, print_matrix\n",
    "import utils.image_audio as ia\n",
    "import numpy as np\n",
    "%matplotlib inline\n",
    "plt.rc('figure', figsize=(8.0, 4.0), dpi=140)"
   ]
  },
  {
   "cell_type": "markdown",
   "metadata": {},
   "source": [
    "# Vectorised computation\n",
    "Vectorised computation refers to operations that we apply to whole arrays \"at once\", in such a way that the operation can be parallelised.\n",
    "\n",
    "## Don't iterate\n",
    "**First rule of vectorisation:** never iterate!\n",
    "\n",
    "<img src=\"imgs/nofor.png\">\n",
    "\n",
    "Slow:\n",
    "\n",
    "    # assume x[i] and y[i] are vectors of the same length\n",
    "    sum = 0        \n",
    "    # NO! Don't use a for loop!\n",
    "    for i in range(len(x)):\n",
    "        sum += x[i] * y[i]\n",
    "        \n",
    "Fast:\n",
    "    \n",
    "    # this can be automatically vectorised, and is vastly faster    \n",
    "    np.sum(x * y)\n",
    "\n",
    "In general, this requires that there be enough *primitive operations* on arrays that you can write whatever algorithm you need without \"getting your hands dirty\" and explicitly iterating through the elements of an array.    \n",
    "\n",
    "This is one of the reasons there are such powerful and sophisticated operations available for arrays: we want to be able to work with them without every explicitly iterating. We will look at how to design and implement vectorised algorithms.\n",
    "\n",
    "The reason for vectorisation is that hardware can often **very** efficiently run vectorised computations, much faster than serial operations.\n",
    "\n",
    "\n",
    "\n",
    "\n",
    "\n",
    "<font color=red>BUT...</font>: we sometimes see for loops in lectures and labs? Well, sometimes (e.g. when teaching new algorithms and methods) it is better to be explicit about the operations you are doing without assumeing everyone understands vectorisation (you will often see a comment saying that this can be implemented more effeciently in case a vectorisation can be performed).\n",
    "\n",
    "\n",
    "\n",
    "\n",
    "## SIMD\n",
    "Many CPUs implement SIMD -- Single Instruction Multiple Data. This means one processor instruction can do an operation on several values at once. Instruction sets like MMX, 3DNow!, SSE{2,3,4}, AVX512, and NEON are SIMD instruction sets.\n",
    "\n",
    "These instructions apply the same operation to several values which are packed together in memory. AVX-512, for example, defines instructions like:\n",
    "\n",
    "    VADDPD zmm1, zmm2   # Add packed double floats"
   ]
  },
  {
   "cell_type": "markdown",
   "metadata": {},
   "source": [
    "    | float1 | float2 | float3 | float4 | float5 | float6 | float7 | float8 |\n",
    "                                    +\n",
    "    | float1 | float2 | float3 | float4 | float5 | float6 | float7 | float8 |\n",
    "    \n",
    "This will simultaneous add together 8 pairs of floating point values (concatenated together into superwide 512 bit registers) in a single instruction. This:\n",
    "\n",
    "*    (a) reduces memory accesses, which are very slow;\n",
    "*    (b) completes eight arithmetic operations in one clock cycle.\n",
    "\n",
    "But it requires that the data be packed into regular arrays so that it can be read in eight number blocks, and that the compiler that generates these instructions knows that the operations can be safely done in a blockwise manner.\n",
    "\n",
    "The various SIMD instruction sets implement a huge number of specialised numerical operations (like fast inverse square root, trigonmetric functions, conversions between word sizes, etc.), all of which operate on multiple operands simultaneously.\n",
    "\n",
    "## GPU processing\n",
    "GPUs are even more specialised. A GPU typically has a very large number (thousands in modern GPUs) of relatively simple cores, each of which is highly optimised in doing floating-point operations. Although the clock speed is often relatively low by CPU standards (1.0-2.0 GHz, perhaps), thousands of operations can be done in every clock.\n",
    "\n",
    "<img src=\"imgs/turing.png\">\n",
    "\n",
    "*[NVidia Turing architecture core layout]*\n",
    "\n",
    "However, this parallel operation is only effective if data can be fed to all of the cores; this means having the cores operate on arrays of data, where each core can work independently on an array element. For example, in 3D rendering, each core might independently render one pixel's worth of data into an output image buffer (an array) based on a vertex buffer (another array).\n",
    "\n",
    "Vectorisation on a very large scale is required to get the full performance of a GPU's computational power. \n",
    "\n"
   ]
  },
  {
   "cell_type": "markdown",
   "metadata": {},
   "source": [
    "## Simple vectorisation\n",
    "Simple problems can be vectorised by:\n",
    "\n",
    "* **Collect** collecting inputs into suitable arrays\n",
    "    * this usually involves stacking arrays together, or filling elements in an array, or slicing existing arrays\n",
    "* **Generate** generating auxiliary arrays, like index arrays, mesh grids or blank (zeros) arrays.\n",
    "* **Operate** applying operations to combinations of those arrays using operators and functions\n",
    "* **Select and collate** collecting the results into an output\n",
    "    * this typically involves slicing, joining and/or masking operations\n"
   ]
  },
  {
   "cell_type": "markdown",
   "metadata": {},
   "source": [
    "## Masking in vectorisation\n",
    "One of the common problems encountered is that there is no direct way to implement *branches* in vectorised code. In regular code, you could write things like:\n",
    "    "
   ]
  },
  {
   "cell_type": "code",
   "execution_count": 5,
   "metadata": {},
   "outputs": [
    {
     "name": "stdout",
     "output_type": "stream",
     "text": [
      "[42.108476   10.26723831 13.98911096  6.69969436 17.56762751 10.61636833\n",
      "  8.49896632 19.51268774  7.79332445 14.23091832  7.14885975  9.44644089\n",
      "  1.45617188 17.05005721  5.39729304]\n"
     ]
    }
   ],
   "source": [
    "mat = np.random.uniform(0, 20, (15, ))\n",
    "threshold = 5\n",
    "\n",
    "for i in range(mat.shape[0]):\n",
    "    if mat[i] < threshold:\n",
    "        mat[i] *= 10\n",
    "print(mat)"
   ]
  },
  {
   "cell_type": "markdown",
   "metadata": {},
   "source": [
    "But since there's no way to intercede in the vectorised loop, this isn't directly possible. Instead, some form of **masking** is typically used. For example, the above can be written"
   ]
  },
  {
   "cell_type": "code",
   "execution_count": 6,
   "metadata": {},
   "outputs": [],
   "source": [
    "mat = np.where(mat < threshold, mat * 10, mat)"
   ]
  },
  {
   "cell_type": "markdown",
   "metadata": {},
   "source": [
    "Note that this computes the intermediate product `mat*10` (i.e. multiplies every element by 10) and also the intermediate boolean area `mat<threshold`. This might seem inefficient. After all, the original code only did the multiplication when needed.\n",
    "\n",
    "But it is actually often **much** faster to compute results and throw them away than to try and insert the branches directly into the computation. Branches are expensive, particularly on most vectorised hardware. \n",
    "\n",
    "### Order operations in place of branching\n",
    "There are operations which often seem to need branching. For example, checking if a number is less than 0, and if it is, making it zero. "
   ]
  },
  {
   "cell_type": "code",
   "execution_count": 7,
   "metadata": {},
   "outputs": [
    {
     "name": "stdout",
     "output_type": "stream",
     "text": [
      "[1.77463612 2.08405924 5.69289704 0.         2.6181728  6.3560397\n",
      " 4.50673418 0.         6.44909476 8.19138639 6.00053817 0.70536215\n",
      " 0.         0.         8.54930736 6.73960257 0.         5.18294181\n",
      " 9.5200593  9.95867114]\n"
     ]
    }
   ],
   "source": [
    "x = np.random.uniform(-10, 10, (20, ))\n",
    "# bad\n",
    "y = np.array(x)\n",
    "for i in range(y.shape[0]):\n",
    "    if y[i] < 0:\n",
    "        y[i] = 0\n",
    "print(y)"
   ]
  },
  {
   "cell_type": "markdown",
   "metadata": {},
   "source": [
    "But this is just the same as taking the maximum value of `x` or 0. So we can write it as:"
   ]
  },
  {
   "cell_type": "code",
   "execution_count": 8,
   "metadata": {},
   "outputs": [
    {
     "name": "stdout",
     "output_type": "stream",
     "text": [
      "[1.77463612 2.08405924 5.69289704 0.         2.6181728  6.3560397\n",
      " 4.50673418 0.         6.44909476 8.19138639 6.00053817 0.70536215\n",
      " 0.         0.         8.54930736 6.73960257 0.         5.18294181\n",
      " 9.5200593  9.95867114]\n"
     ]
    }
   ],
   "source": [
    "print(np.maximum(x,0))"
   ]
  },
  {
   "cell_type": "markdown",
   "metadata": {},
   "source": [
    "In fact, \"clipping\" numbers to a specific range is such a common operations that there is a built in function for it in NumPy. This function is sometimes known as **saturation**.\n",
    "\n",
    "`np.clip(x,lower,upper)` returns a new array where every element of `x` is at least lower and at most upper."
   ]
  },
  {
   "cell_type": "code",
   "execution_count": 9,
   "metadata": {},
   "outputs": [
    {
     "name": "stdout",
     "output_type": "stream",
     "text": [
      "[ 1.77463612  2.08405924  3.         -3.          2.6181728   3.\n",
      "  3.         -1.07931038  3.          3.          3.          0.70536215\n",
      " -3.         -3.          3.          3.         -3.          3.\n",
      "  3.          3.        ]\n"
     ]
    }
   ],
   "source": [
    "print(np.clip(x,-3,3)) # force values<-3 to 3 and values>3 to 3"
   ]
  },
  {
   "cell_type": "markdown",
   "metadata": {},
   "source": [
    "It is also useful to be able to force numbers to take on whole values. There are three standard operations to do this:\n",
    "* `np.round(x)` rounds `x` to the *nearest* integer (note: numbers remain floating point!)\n",
    "* `np.ceil(x)` rounds `x` up smallest integer larger than x\n",
    "* `np.floor(x)` rounds `x` down to the largest integer smaller than x"
   ]
  },
  {
   "cell_type": "code",
   "execution_count": 10,
   "metadata": {},
   "outputs": [
    {
     "name": "stdout",
     "output_type": "stream",
     "text": [
      "[ 2.  2.  6. -5.  3.  6.  5. -1.  6.  8.  6.  1. -7. -4.  9.  7. -6.  5.\n",
      " 10. 10.]\n",
      "[ 2.  3.  6. -4.  3.  7.  5. -1.  7.  9.  7.  1. -6. -4.  9.  7. -6.  6.\n",
      " 10. 10.]\n",
      "[ 1.  2.  5. -5.  2.  6.  4. -2.  6.  8.  6.  0. -7. -5.  8.  6. -7.  5.\n",
      "  9.  9.]\n"
     ]
    }
   ],
   "source": [
    "print(np.round(x))\n",
    "print(np.ceil(x))\n",
    "print(np.floor(x))"
   ]
  },
  {
   "cell_type": "markdown",
   "metadata": {},
   "source": [
    "Between these cases, most branching like terms can be rewritten in a vectorized way.\n",
    "\n",
    "Some cases where we could use `np.where()` to implement branch-like code can be rewritten (much less elegantly) using `minimum, maximum, clip, floor, round, ceil`. This is often important if you are writing code to run on the GPU:"
   ]
  },
  {
   "cell_type": "code",
   "execution_count": 11,
   "metadata": {},
   "outputs": [
    {
     "name": "stdout",
     "output_type": "stream",
     "text": [
      "[-2. -2. -2.  2. -2. -2. -2.  2. -2. -2. -2. -2.  2.  2. -2. -2.  2. -2.\n",
      " -2. -2.]\n"
     ]
    }
   ],
   "source": [
    "print(np.where(x<0,2.0,-2.0))"
   ]
  },
  {
   "cell_type": "code",
   "execution_count": 12,
   "metadata": {},
   "outputs": [
    {
     "name": "stdout",
     "output_type": "stream",
     "text": [
      "[-2. -2. -2.  2. -2. -2. -2.  2. -2. -2. -2. -2.  2.  2. -2. -2.  2. -2.\n",
      " -2. -2.]\n"
     ]
    }
   ],
   "source": [
    "# equivalent\n",
    "print((np.ceil(np.clip(x,0,1))-0.5) * -4)"
   ]
  },
  {
   "cell_type": "markdown",
   "metadata": {},
   "source": [
    "## Implementing equations\n",
    "### Sums\n",
    "If you see an equation of the form\n",
    "\n",
    "$$\\sum_{i=0}^{n-1} f(x_i),$$\n",
    "\n",
    "then there is a simple implementation: apply $f$ to the array, and then sum the result.\n",
    "\n",
    "Example:\n",
    "$$\\sum_{i=0}^{n-1} \\tan(x_i^2)$$"
   ]
  },
  {
   "cell_type": "code",
   "execution_count": 13,
   "metadata": {},
   "outputs": [
    {
     "data": {
      "text/plain": [
       "4.988580347415236"
      ]
     },
     "execution_count": 13,
     "metadata": {},
     "output_type": "execute_result"
    }
   ],
   "source": [
    "x = np.random.uniform(0, 1, 10)  # 10 random numbers\n",
    "\n",
    "np.sum(np.tan(x**2))"
   ]
  },
  {
   "cell_type": "markdown",
   "metadata": {},
   "source": [
    "If the index of the sum appears, use `np.arange()` to *generate* it. Note that this is quite different from a standard for loop, where the index would be readily available!\n",
    "\n",
    "Example:\n",
    "$$\\sum_{i=0}^{n-1} x_i^{(i \\mod 2)} + i$$"
   ]
  },
  {
   "cell_type": "code",
   "execution_count": 14,
   "metadata": {},
   "outputs": [
    {
     "data": {
      "text/plain": [
       "53.24624694026406"
      ]
     },
     "execution_count": 14,
     "metadata": {},
     "output_type": "execute_result"
    }
   ],
   "source": [
    "ix = np.arange(len(x))  # generate index\n",
    "np.sum(x**(ix % 2) + ix)"
   ]
  },
  {
   "cell_type": "markdown",
   "metadata": {},
   "source": [
    "### Nested sums\n",
    "Nested sums, like the formula below are typically operations on matrices:\n",
    "\n",
    "$$\\sum_{i=0}^{n-1} \\sum_{j=0}^{n-1} I_{xy} J_{yx} \\frac{1}{n^2}$$\n",
    "$$ = \\sum_{i=0}^{n-1} \\sum_{j=0}^{n-1} I_{xy} J_{xy}^T \\frac{1}{n^2}$$\n",
    "$$ =  \\frac{1}{n^2} \\sum_{i=0}^{n-1} \\sum_{j=0}^{n-1} I_{xy} J_{xy}^T$$\n",
    "(assumes $I$ and $J$ are  square and the same size!)"
   ]
  },
  {
   "cell_type": "code",
   "execution_count": 15,
   "metadata": {},
   "outputs": [
    {
     "data": {
      "text/plain": [
       "0.35289736546016504"
      ]
     },
     "execution_count": 15,
     "metadata": {},
     "output_type": "execute_result"
    }
   ],
   "source": [
    "I = np.random.uniform(0, 1, (3, 3))\n",
    "J = np.random.uniform(0, 1, (3, 3))\n",
    "\n",
    "np.sum(I * J.T) / (I.shape[0]**2)"
   ]
  },
  {
   "cell_type": "markdown",
   "metadata": {},
   "source": [
    "## 2D functions and meshgrids\n"
   ]
  },
  {
   "cell_type": "markdown",
   "metadata": {},
   "source": [
    "What if you see an equation which defines a matrix $F$ like this?\n",
    "\n",
    "$F_{p,q} = i^2 + 2j^2$\n",
    "\n",
    "This depends on *two* index variables, $i$ and $j$. Straightforward vectorisation isn't obvious:"
   ]
  },
  {
   "cell_type": "code",
   "execution_count": 16,
   "metadata": {},
   "outputs": [
    {
     "ename": "ValueError",
     "evalue": "operands could not be broadcast together with shapes (10,) (6,) ",
     "output_type": "error",
     "traceback": [
      "\u001b[1;31m---------------------------------------------------------------------------\u001b[0m",
      "\u001b[1;31mValueError\u001b[0m                                Traceback (most recent call last)",
      "\u001b[1;32m<ipython-input-16-cff279429343>\u001b[0m in \u001b[0;36m<module>\u001b[1;34m\u001b[0m\n\u001b[0;32m      2\u001b[0m \u001b[0mj\u001b[0m \u001b[1;33m=\u001b[0m \u001b[0mnp\u001b[0m\u001b[1;33m.\u001b[0m\u001b[0marange\u001b[0m\u001b[1;33m(\u001b[0m\u001b[1;33m-\u001b[0m\u001b[1;36m3\u001b[0m\u001b[1;33m,\u001b[0m\u001b[1;36m3\u001b[0m\u001b[1;33m)\u001b[0m\u001b[1;33m\u001b[0m\u001b[1;33m\u001b[0m\u001b[0m\n\u001b[0;32m      3\u001b[0m \u001b[1;31m# this doesn't work\u001b[0m\u001b[1;33m\u001b[0m\u001b[1;33m\u001b[0m\u001b[1;33m\u001b[0m\u001b[0m\n\u001b[1;32m----> 4\u001b[1;33m \u001b[0mF\u001b[0m \u001b[1;33m=\u001b[0m \u001b[0mi\u001b[0m\u001b[1;33m**\u001b[0m\u001b[1;36m2\u001b[0m \u001b[1;33m+\u001b[0m \u001b[1;36m2\u001b[0m\u001b[1;33m*\u001b[0m\u001b[0mj\u001b[0m\u001b[1;33m**\u001b[0m\u001b[1;36m2\u001b[0m\u001b[1;33m\u001b[0m\u001b[1;33m\u001b[0m\u001b[0m\n\u001b[0m",
      "\u001b[1;31mValueError\u001b[0m: operands could not be broadcast together with shapes (10,) (6,) "
     ]
    }
   ],
   "source": [
    "i = np.arange(-5,5)\n",
    "j = np.arange(-3,3)\n",
    "# this doesn't work\n",
    "F = i**2 + 2*j**2"
   ]
  },
  {
   "cell_type": "markdown",
   "metadata": {},
   "source": [
    "The problem is that we need to have every *combination* of the indices $i$ and $j$.\n",
    "\n",
    "The **meshgrid** function solves this problem. It takes two indices, and returns a pair of index matrices, which can be directly used to vectorise this problem. This is just a convenience for tiling the index arrays:"
   ]
  },
  {
   "cell_type": "code",
   "execution_count": 17,
   "metadata": {},
   "outputs": [],
   "source": [
    "mi, mj = np.meshgrid(i,j)"
   ]
  },
  {
   "cell_type": "code",
   "execution_count": 18,
   "metadata": {},
   "outputs": [
    {
     "name": "stdout",
     "output_type": "stream",
     "text": [
      "[[-5 -4 -3 -2 -1  0  1  2  3  4]\n",
      " [-5 -4 -3 -2 -1  0  1  2  3  4]\n",
      " [-5 -4 -3 -2 -1  0  1  2  3  4]\n",
      " [-5 -4 -3 -2 -1  0  1  2  3  4]\n",
      " [-5 -4 -3 -2 -1  0  1  2  3  4]\n",
      " [-5 -4 -3 -2 -1  0  1  2  3  4]]\n"
     ]
    }
   ],
   "source": [
    "print(mi)"
   ]
  },
  {
   "cell_type": "code",
   "execution_count": 19,
   "metadata": {},
   "outputs": [
    {
     "name": "stdout",
     "output_type": "stream",
     "text": [
      "[[-3 -3 -3 -3 -3 -3 -3 -3 -3 -3]\n",
      " [-2 -2 -2 -2 -2 -2 -2 -2 -2 -2]\n",
      " [-1 -1 -1 -1 -1 -1 -1 -1 -1 -1]\n",
      " [ 0  0  0  0  0  0  0  0  0  0]\n",
      " [ 1  1  1  1  1  1  1  1  1  1]\n",
      " [ 2  2  2  2  2  2  2  2  2  2]]\n"
     ]
    }
   ],
   "source": [
    "print(mj)"
   ]
  },
  {
   "cell_type": "code",
   "execution_count": 25,
   "metadata": {},
   "outputs": [
    {
     "name": "stdout",
     "output_type": "stream",
     "text": [
      "[[43 34 27 22 19 18 19 22 27 34]\n",
      " [33 24 17 12  9  8  9 12 17 24]\n",
      " [27 18 11  6  3  2  3  6 11 18]\n",
      " [25 16  9  4  1  0  1  4  9 16]\n",
      " [27 18 11  6  3  2  3  6 11 18]\n",
      " [33 24 17 12  9  8  9 12 17 24]]\n"
     ]
    }
   ],
   "source": [
    "# now this works!\n",
    "F = mi**2 + 2 * mj ** 2\n",
    "print(F)"
   ]
  },
  {
   "cell_type": "code",
   "execution_count": 26,
   "metadata": {},
   "outputs": [
    {
     "data": {
      "text/plain": [
       "<matplotlib.image.AxesImage at 0x12ca90bacf8>"
      ]
     },
     "execution_count": 26,
     "metadata": {},
     "output_type": "execute_result"
    },
    {
     "data": {
      "image/png": "[encoded data removed]",
      "text/plain": [
       "<Figure size 432x288 with 1 Axes>"
      ]
     },
     "metadata": {
      "needs_background": "light"
     },
     "output_type": "display_data"
    }
   ],
   "source": [
    "plt.imshow(F)"
   ]
  },
  {
   "cell_type": "markdown",
   "metadata": {},
   "source": [
    "We can use this to evaluate any 2D function $f(x,y)$ over a 2D grid.\n",
    "\n",
    "$$\n",
    "f(x,y) = \\begin{cases}\n",
    "e^{\\frac{(x+0.5)^2+y^2}{10}} - e^{(x+0.5)^2+y^2} \\quad \\text{for}\\ y>0 \\\\\n",
    "e^{\\frac{(x-0.5)^2+y^2}{10}} - e^{(x-0.5)^2+y^2} \\quad \\text{for}\\ y<0\n",
    "\\end{cases}\n",
    "$$\n"
   ]
  },
  {
   "cell_type": "code",
   "execution_count": 24,
   "metadata": {},
   "outputs": [
    {
     "data": {
      "image/png": "[encoded data removed]",
      "text/plain": [
       "(-0.5, 99.5, 99.5, -0.5)"
      ]
     },
     "execution_count": 24,
     "metadata": {},
     "output_type": "execute_result"
    },
    {
     "data": {
      "image/png": "[encoded data removed]",
      "text/plain": [
       "<Figure size 432x288 with 1 Axes>"
      ]
     },
     "metadata": {
      "needs_background": "light"
     },
     "output_type": "display_data"
    }
   ],
   "source": [
    "# 100 points from -4 to 4\n",
    "x = np.linspace(-4, 4, 100)\n",
    "y = np.linspace(-4, 4, 100)\n",
    "# generate our grid\n",
    "mx, my = np.meshgrid(x, y)\n",
    "\n",
    "# implement the branch\n",
    "step_mx = np.where(my < 0, mx - 0.5, mx + 0.5)\n",
    "\n",
    "# a ring like function (difference of Gaussians)\n",
    "fx = np.exp(-(step_mx**2 + my**2) / 10) - np.exp(-(step_mx**2 + my**2))\n",
    "plt.imshow(fx)\n",
    "plt.axis(\"off\")"
   ]
  },
  {
   "cell_type": "markdown",
   "metadata": {},
   "source": [
    "# Resources for this lecture\n",
    "* **From Python to Numpy** http://www.labri.fr/perso/nrougier/from-python-to-numpy/ *recommended reading*\n",
    "\n",
    "---"
   ]
  },
  {
   "cell_type": "markdown",
   "metadata": {},
   "source": [
    "* **Floating point numbers** http://pmihaylov.com/floating-point-numbers/ (floats)\n",
    "* **What Every Computer Scientist Should Know About Floating Point Numbers** http://docs.oracle.com/cd/E19957-01/806-3568/ncg_goldberg.html\n",
    "\n",
    "## Advanced (beyond this course)\n",
    "* **Advanced NumPy** http://www.scipy-lectures.org/advanced/advanced_numpy/\n",
    "* **NumPy tricks** http://arogozhnikov.github.io/2015/09/30/NumpyTipsAndTricks2.html and http://arogozhnikov.github.io/2015/09/29/NumpyTipsAndTricks1.html"
   ]
  },
  {
   "cell_type": "code",
   "execution_count": null,
   "metadata": {},
   "outputs": [],
   "source": []
  }
 ],
 "metadata": {
  "celltoolbar": "Tags",
  "kernelspec": {
   "display_name": "Python 3",
   "language": "python",
   "name": "python3"
  },
  "language_info": {
   "codemirror_mode": {
    "name": "ipython",
    "version": 3
   },
   "file_extension": ".py",
   "mimetype": "text/x-python",
   "name": "python",
   "nbconvert_exporter": "python",
   "pygments_lexer": "ipython3",
   "version": "3.7.3"
  },
  "toc": {
   "nav_menu": {},
   "number_sections": true,
   "sideBar": true,
   "skip_h1_title": false,
   "toc_cell": false,
   "toc_position": {},
   "toc_section_display": "block",
   "toc_window_display": false
  }
 },
 "nbformat": 4,
 "nbformat_minor": 2
}
