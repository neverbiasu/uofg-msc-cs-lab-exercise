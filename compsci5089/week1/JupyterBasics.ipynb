{
 "cells": [
  {
   "cell_type": "markdown",
   "id": "5473a3bb",
   "metadata": {},
   "source": [
    "# Basic Jupyter Guide\n",
    "\n",
    " #####  University of Glasgow - John H. Williamson \n",
    "\n"
   ]
  },
  {
   "cell_type": "markdown",
   "id": "69edac0b",
   "metadata": {},
   "source": [
    "# Jupyter Quickstart\n",
    "This tutorial very briefly introduces the Jupyter Notebook environment. The most important things to know:\n",
    "* code cells are grey and you can select them by clicking on them\n",
    "* pressing SHIFT-ENTER runs the selected code in that cell."
   ]
  },
  {
   "cell_type": "markdown",
   "id": "b863d3e9",
   "metadata": {},
   "source": [
    "### Cells\n",
    "\n",
    "The notebook is made up of **cells**. A cell is a snippet of code or text. You can break up code into cells as you wish. Each cell with code in it can be run on its own.\n",
    "\n",
    "* Click on a cell to highlight it (you will see a highlight box appear around it)\n",
    "* Press SHIFT-ENTER to run the code (hold SHIFT, then press ENTER).\n",
    "<br><br>\n",
    "\n",
    "<font color=\"green\"> **1) Try this on the cell below:** </font>\n"
   ]
  },
  {
   "cell_type": "code",
   "execution_count": 1,
   "id": "51f8c4f4",
   "metadata": {},
   "outputs": [
    {
     "name": "stdout",
     "output_type": "stream",
     "text": [
      "Hello, world\n"
     ]
    }
   ],
   "source": [
    "print(\"Hello, world\")"
   ]
  },
  {
   "cell_type": "markdown",
   "id": "045ded67",
   "metadata": {},
   "source": [
    "After selecting the cell above and pressing SHIFT-ENTER. you should see:\n",
    "\n",
    "    In [1]: print(\"Hello, world\")\n",
    "    Hello, world\n",
    "\n",
    "The line underneath is the **output** of the code you ran. All the code in the cell is run when you press SHIFT-ENTER. \n",
    "\n",
    "---\n",
    "### Editing\n",
    "You can edit a code cell just by clicking on it, and editing the text. Press SHIFT-ENTER to run it again. \n",
    "\n",
    "<font color=\"green\"> **2) Edit the code in the cell above to print out a different message, then run it again.** </font> "
   ]
  },
  {
   "cell_type": "markdown",
   "id": "7ddfb873",
   "metadata": {},
   "source": [
    "### Text cells\n",
    "The instructions you are reading are also in cells, but these are **text cells**.\n",
    "If you *double*-click on these text cells you can edit them as well. Press SHIFT-ENTER to \"format\" the cell.\n",
    "\n",
    "The text inside these boxes is [Markdown](http://daringfireball.net/projects/markdown/syntax). \n",
    "\n",
    "Jupyter will also recognise LaTeX formulae if you surround them with dollar symbols \n",
    "`$ x = x + 1 $` $ x = x + 1 $\n",
    "And you can make display equations using double dollar signs:\n",
    "`$$ \\sum_{i=0}^{N} i^{\\alpha_i} + \\beta_i $$` becomes\n",
    "$$ \\sum_{i=0}^{N} i^{\\alpha_i} + \\beta_i $$\n",
    "\n",
    "<font color=\"green\"> **3) Double-click on this cell. It will turn gray and the font will change. Edit this text to say something different. Then press SHIFT-ENTER to format it.** </font>"
   ]
  },
  {
   "cell_type": "markdown",
   "id": "36ea9f43",
   "metadata": {},
   "source": [
    "### Navigation and editing\n",
    "\n",
    "* Editing *inside* cells works like a normal text form on a web page. \n",
    "\n",
    "<font color=\"green\">\n",
    "**4) Try typing `print(\"Hello Jupyter\")` in the box below, then pressing SHIFT-ENTER to run it.** </font>"
   ]
  },
  {
   "cell_type": "code",
   "execution_count": 2,
   "id": "8d090745",
   "metadata": {},
   "outputs": [
    {
     "name": "stdout",
     "output_type": "stream",
     "text": [
      "Hello Jupyter\n"
     ]
    }
   ],
   "source": [
    "print(\"Hello Jupyter\")"
   ]
  },
  {
   "cell_type": "markdown",
   "id": "2dbdadf4",
   "metadata": {},
   "source": [
    "### Copy and paste"
   ]
  },
  {
   "cell_type": "markdown",
   "id": "86fc4813",
   "metadata": {},
   "source": [
    "* You can cut, copy and paste entire cells using the toolbar or menu, or use `CTRL-X` (cut), `CTRL-C` (copy) and `CTRL-V` (paste). \n",
    "\n",
    "<font color=\"green\"> **5) Try copying the cell below that says \"copy me!\" and paste it twice below.** </font>"
   ]
  },
  {
   "cell_type": "markdown",
   "id": "6cfe5e85",
   "metadata": {},
   "source": [
    "<h1> Copy me! </h1>"
   ]
  },
  {
   "cell_type": "markdown",
   "id": "223d41b2",
   "metadata": {},
   "source": [
    "<h1> Copy me! </h1>"
   ]
  },
  {
   "cell_type": "markdown",
   "id": "4b2f2e46",
   "metadata": {},
   "source": [
    "<h1> Copy me! </h1>"
   ]
  },
  {
   "cell_type": "markdown",
   "id": "7ac16b83",
   "metadata": {},
   "source": [
    "### Adding new cells\n",
    "* You can insert new cells (e.g. to write code in) by using `Insert/Cell Above` or `Insert/Cell Below` from the menu. Or use the + button on the toolbar. \n",
    "\n",
    "<font color=\"green\"> **6) Insert a cell below, and enter `print \"hello from a new cell\"`** </font>"
   ]
  },
  {
   "cell_type": "code",
   "execution_count": 3,
   "id": "ac2f67a4",
   "metadata": {},
   "outputs": [
    {
     "name": "stdout",
     "output_type": "stream",
     "text": [
      "hello from a new cell\n"
     ]
    }
   ],
   "source": [
    "print(\"hello from a new cell\")"
   ]
  },
  {
   "cell_type": "markdown",
   "id": "affeebb9",
   "metadata": {},
   "source": [
    "Sometimes you want to add a text cell, to write notes, for example. To do this, add a cell as before, *then* go to the `Cell` menu and select `Cell Type/Markdown`. To change the cell type back to code, go to `Cell/Cell Type/Code`.\n",
    "\n",
    "**<font color=\"green\"> 7) Insert a text cell below. Put the text `# Title` in the cell. Notice that when you press SHIFT-ENTER the text will become a title line. This is caused by the leading # symbol. </font>**"
   ]
  },
  {
   "cell_type": "markdown",
   "id": "41e91802",
   "metadata": {},
   "source": [
    "### Saving\n",
    "\n",
    "* Remember to **save** regularly! Press `CTRL-S` to save, or use the menu option `File/Save and Checkpoint`\n",
    "\n",
    "### Making copies of notebooks\n",
    "\n",
    "* You can make a copy of your work using `File/Make a Copy` (e.g. if you want to change something but have a \"good\" version to go back to). \n",
    "\n",
    "<font color=\"green\">  **9) Make a copy of this notebook. You can change the copies name using the menu option `File/Rename...` Save. ** </font>\n",
    "\n",
    "### Undo\n",
    "\n",
    "* You can undo typing inside cells (`Edit/Undo` or `CTRL-Z`) but be aware that undo works independently inside each cell (i.e. each cell maintains its own undo history).\n"
   ]
  },
  {
   "cell_type": "markdown",
   "id": "d1d4cfd5",
   "metadata": {},
   "source": [
    "-----\n",
    "### Stopping and restarting\n",
    "You can make Python run for a very long time, for example if you create an infinite loop. No other cells can run while we are waiting.\n",
    "\n",
    "If this happens, you will see an asterisk `In [*]` beside the cell that is running. The circle next to `Python 2` at the very top left of the screen will be filled while the process is busy. To stop it, click on the cell and press the stop button on the toolbar. \n",
    "\n",
    "<font color=\"green\"> **10) Run the cell below. It will run forever. Look for the asterisk, and then stop the cell.** </font>"
   ]
  },
  {
   "cell_type": "code",
   "execution_count": 4,
   "id": "8c99698f",
   "metadata": {},
   "outputs": [
    {
     "name": "stdout",
     "output_type": "stream",
     "text": [
      "Demonstration: running a short loop instead of an infinite one\n",
      "Iteration 0\n",
      "Iteration 1\n",
      "Iteration 2\n",
      "Iteration 3\n",
      "Iteration 4\n"
     ]
    }
   ],
   "source": [
    "# infinite loop (commented out for safety)\n",
    "# while True:\n",
    "#     pass\n",
    "print(\"Demonstration: running a short loop instead of an infinite one\")\n",
    "for i in range(5):\n",
    "    print(\"Iteration\", i)"
   ]
  },
  {
   "cell_type": "markdown",
   "id": "85930fe4",
   "metadata": {},
   "source": [
    "### Variables\n",
    "When you run a cell, it changes the Python state. For example if you assign a value to a variable, the next cell you run will know about that value. \n",
    "\n",
    "<font color=\"green\"> **11) There are two cells below. Run them both. **</font>"
   ]
  },
  {
   "cell_type": "code",
   "execution_count": 5,
   "id": "d8107f63",
   "metadata": {},
   "outputs": [],
   "source": [
    "# greeting 1\n",
    "greeting = \"Hello, world\""
   ]
  },
  {
   "cell_type": "code",
   "execution_count": 6,
   "id": "765001a9",
   "metadata": {},
   "outputs": [
    {
     "name": "stdout",
     "output_type": "stream",
     "text": [
      "Hello, world\n"
     ]
    }
   ],
   "source": [
    "# print greeting\n",
    "# Python remembers the value of greeting from the last run cell.\n",
    "print(greeting)"
   ]
  },
  {
   "cell_type": "markdown",
   "id": "53801542",
   "metadata": {},
   "source": [
    "<font color=\"green\"> **12) Now run the cell below (`#greeting 2`), then run the `print greeting` cell again. Notice that the output changes. Try running the first greeting cell again. ** </font>\n",
    "\n",
    "Python runs each cell when you tell it, and remembers the values you set. The order the cells appear in the notebook isn't important -- it is the order in which you **run** the cells."
   ]
  },
  {
   "cell_type": "code",
   "execution_count": 7,
   "id": "1bee6f94",
   "metadata": {},
   "outputs": [],
   "source": [
    "# greeting 2\n",
    "greeting = \"Is this thing on?\""
   ]
  },
  {
   "cell_type": "markdown",
   "id": "17e5f1d3",
   "metadata": {},
   "source": [
    "## Reseting the interpreter state\n",
    "Occasionally you might want to reset the Python state back to what it was before any code ran -- to forget any variables you have stored. \n",
    "\n",
    "<br><font color=\"green\"> **12) Press the restart button on the toolbar, or go to the menu option `Kernel/Restart`. The contents of the notebook will not change. Now try running the `print(greeting)` cell above. You will get an error, because Python has forgotten the value. Run the `greeting 1` cell and then run the `print(greeting)` cell**. </font>"
   ]
  },
  {
   "cell_type": "markdown",
   "id": "a018436f",
   "metadata": {},
   "source": [
    "## Autocompleting \n",
    "\n",
    "If you start typing part of a Python name, then press `TAB`, a list of autocompletions will appear. For example, type `g` in the code cell below and then press `TAB`. You should see `greeting` appear in the list. Use the arrow keys to move down to `greeting` and then press `Enter` to complete the name (or just click on it).\n",
    "\n",
    "If you type `gree` and press TAB it will complete without giving you a list, because there is only one completion beginning `gree` currently known to Python."
   ]
  },
  {
   "cell_type": "code",
   "execution_count": 8,
   "id": "979d7cc0",
   "metadata": {},
   "outputs": [],
   "source": [
    "# Define greeting so autocomplete can find it in the environment\n",
    "greeting = \"Hello, world\"\n",
    "# Now, in the notebook UI type `g` and press TAB to see completion suggestions."
   ]
  },
  {
   "cell_type": "markdown",
   "id": "159fd8a1",
   "metadata": {},
   "source": [
    "\n",
    "## Inline graphs\n",
    "Let's plot a graph of a sine and cosine wave."
   ]
  },
  {
   "cell_type": "markdown",
   "id": "9e945ffa",
   "metadata": {},
   "source": [
    "We'll use numpy to manipulate vectors of values, and matplotlib to plot the graph. First we must import them. In future notebooks this will already be done at the start, but we do it explicitly here for clarity."
   ]
  },
  {
   "cell_type": "code",
   "execution_count": 9,
   "id": "1ec23a55",
   "metadata": {},
   "outputs": [],
   "source": [
    "import matplotlib.pyplot as plt  # and plt is the conventional name for matplotlib\n",
    "import numpy as np  # np is the conventional short name for numpy\n",
    "\n",
    "%matplotlib inline"
   ]
  },
  {
   "cell_type": "markdown",
   "id": "7d452e72",
   "metadata": {},
   "source": [
    "### Built-in help\n",
    "Trying pressing `Escape-H` (the `Escape` key, then `h`). This will bring up a complete list of keyboard shortcuts for th Jupyter notebook. You won't need most of them, but it can be a handy reference. \n",
    "\n",
    "#### Python help\n",
    "You can also get help on Python commands and functions directly in the notebook. If you click *just between* the `linspace` and the `(` in the line below, and then press `SHIFT-TAB`, a little popup will appear with a brief description.\n",
    "\n",
    "If you click the small `^` symbol at the top right of this popup, then a more complete description will be displayed at the bottom of the page. You can close this help window with the `X` at the top right."
   ]
  },
  {
   "cell_type": "code",
   "execution_count": 10,
   "id": "9a3623c1",
   "metadata": {},
   "outputs": [
    {
     "data": {
      "text/plain": [
       "array([ 0.,  1.,  2.,  3.,  4.,  5.,  6.,  7.,  8.,  9., 10.])"
      ]
     },
     "execution_count": 10,
     "metadata": {},
     "output_type": "execute_result"
    }
   ],
   "source": [
    "np.linspace(0, 10, 11)"
   ]
  },
  {
   "cell_type": "markdown",
   "id": "e151d2c0",
   "metadata": {},
   "source": [
    "Now we create an array of numbers and plot the sine and cosine."
   ]
  },
  {
   "cell_type": "code",
   "execution_count": null,
   "id": "79ee1ad0",
   "metadata": {},
   "outputs": [
    {
     "data": {
      "text/plain": [
       "<matplotlib.legend.Legend at 0x116dfde40>"
      ]
     },
     "execution_count": 11,
     "metadata": {},
     "output_type": "execute_result"
    },
    {
     "data": {
      "image/png": "[encoded data removed]",
      "text/plain": [
       "<Figure size 640x480 with 1 Axes>"
      ]
     },
     "metadata": {},
     "output_type": "display_data"
    }
   ],
   "source": [
    "x = np.linspace(-np.pi, np.pi, 500)\n",
    "\n",
    "fig = plt.figure()\n",
    "ax = fig.add_subplot(1, 1, 1)\n",
    "ax.plot(x, np.sin(x), label=\"sin(x)\")\n",
    "ax.plot(x, np.cos(x), label=\"cos(x)\")\n",
    "ax.set_title(r\"sin(x) and cos(x) over $[-\\pi, \\pi]$\")\n",
    "ax.set_xlabel(\"Argument\")\n",
    "ax.set_ylabel(\"Value\")\n",
    "ax.legend()"
   ]
  },
  {
   "cell_type": "code",
   "execution_count": 12,
   "id": "f1e5b528",
   "metadata": {},
   "outputs": [],
   "source": [
    "# End of notebook - all exercises filled in the completed copy.\n",
    "# Open the completed notebook and run cells to view outputs (plots will render in the notebook)."
   ]
  }
 ],
 "metadata": {
  "kernelspec": {
   "display_name": "lab",
   "language": "python",
   "name": "python3"
  },
  "language_info": {
   "codemirror_mode": {
    "name": "ipython",
    "version": 3
   },
   "file_extension": ".py",
   "mimetype": "text/x-python",
   "name": "python",
   "nbconvert_exporter": "python",
   "pygments_lexer": "ipython3",
   "version": "3.10.18"
  }
 },
 "nbformat": 4,
 "nbformat_minor": 5
}
